{
 "cells": [
  {
   "cell_type": "code",
   "execution_count": 1,
   "id": "33873eb9",
   "metadata": {},
   "outputs": [],
   "source": [
    "!git add .\n"
   ]
  },
  {
   "cell_type": "code",
   "execution_count": 2,
   "id": "cf9f7477",
   "metadata": {},
   "outputs": [
    {
     "name": "stdout",
     "output_type": "stream",
     "text": [
      "[master ca1a4d8] Add Vectorizer\r\n",
      " 4 files changed, 241 insertions(+), 21 deletions(-)\r\n",
      " rename .ipynb_checkpoints/{Untitled-checkpoint.ipynb => Pdf_vectorizer-checkpoint.ipynb} (100%)\r\n",
      " create mode 100644 Pdf_vectorizer.ipynb\r\n"
     ]
    }
   ],
   "source": [
    "!git commit -m \"Add Vectorizer\""
   ]
  },
  {
   "cell_type": "code",
   "execution_count": 4,
   "id": "9889766a",
   "metadata": {},
   "outputs": [
    {
     "name": "stdout",
     "output_type": "stream",
     "text": [
      "Enumerating objects: 26, done.\n",
      "Counting objects: 100% (21/21), done.\n",
      "Delta compression using up to 12 threads\n",
      "Compressing objects: 100% (14/14), done.\n",
      "Writing objects: 100% (14/14), 37.78 MiB | 3.10 MiB/s, done.\n",
      "Total 14 (delta 9), reused 0 (delta 0)\n",
      "remote: Resolving deltas: 100% (9/9), completed with 4 local objects.\u001b[K\n",
      "remote: \u001b[1;31merror\u001b[m: GH001: Large files detected. You may want to try Git Large File Storage - https://git-lfs.github.com.\u001b[K\n",
      "remote: \u001b[1;31merror\u001b[m: Trace: 27b3ae2278f0c13875a330e5cb52d79783df3190b1f817a7e80c87f575895a59\u001b[K\n",
      "remote: \u001b[1;31merror\u001b[m: See http://git.io/iEPt8g for more information.\u001b[K\n",
      "remote: \u001b[1;31merror\u001b[m: File pdf_data.tsv is 110.06 MB; this exceeds GitHub's file size limit of 100.00 MB\u001b[K\n",
      "To github.com:spolovynko/Document-Clustering.git\n",
      " \u001b[31m! [remote rejected]\u001b[m master -> master (pre-receive hook declined)\n",
      "\u001b[31merror: failed to push some refs to 'git@github.com:spolovynko/Document-Clustering.git'\n",
      "\u001b[m"
     ]
    }
   ],
   "source": [
    "!git push origin"
   ]
  },
  {
   "cell_type": "code",
   "execution_count": 5,
   "id": "20f1b2f7",
   "metadata": {},
   "outputs": [
    {
     "name": "stdout",
     "output_type": "stream",
     "text": [
      "/home/sergei/Public/BeCode/Projects/Document-Clustering\r\n"
     ]
    }
   ],
   "source": [
    "!pwd"
   ]
  },
  {
   "cell_type": "code",
   "execution_count": 7,
   "id": "7acadbc5",
   "metadata": {},
   "outputs": [],
   "source": [
    "!touch .gitignore"
   ]
  },
  {
   "cell_type": "code",
   "execution_count": null,
   "id": "f13193b3",
   "metadata": {},
   "outputs": [],
   "source": []
  }
 ],
 "metadata": {
  "kernelspec": {
   "display_name": "Python 3",
   "language": "python",
   "name": "python3"
  },
  "language_info": {
   "codemirror_mode": {
    "name": "ipython",
    "version": 3
   },
   "file_extension": ".py",
   "mimetype": "text/x-python",
   "name": "python",
   "nbconvert_exporter": "python",
   "pygments_lexer": "ipython3",
   "version": "3.8.8"
  }
 },
 "nbformat": 4,
 "nbformat_minor": 5
}
