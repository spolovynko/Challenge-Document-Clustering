{
 "cells": [
  {
   "cell_type": "code",
   "execution_count": 66,
   "id": "c135d9f7",
   "metadata": {},
   "outputs": [],
   "source": [
    "#Data manipulation\n",
    "import pandas as pd\n",
    "import numpy as np\n",
    "\n",
    "#Data visualisation\n",
    "import matplotlib.pyplot as plt\n",
    "\n",
    "#Warning\n",
    "import warnings\n",
    "warnings.filterwarnings(\"ignore\")\n",
    "\n",
    "#Vectorizer\n",
    "from sklearn.feature_extraction.text import TfidfVectorizer as tfidf\n",
    "\n",
    "#Clustering\n",
    "from sklearn.cluster import KMeans\n",
    "from sklearn.decomposition import PCA\n",
    "from sklearn.manifold import TSNE\n",
    "\n",
    "#scipy\n",
    "from scipy.cluster.vq import kmeans"
   ]
  },
  {
   "cell_type": "code",
   "execution_count": 2,
   "id": "9c4dbd22",
   "metadata": {},
   "outputs": [],
   "source": [
    "pdf = pd.read_csv(\"../dataset/pdf_data.tsv\")\n"
   ]
  },
  {
   "cell_type": "code",
   "execution_count": 3,
   "id": "cbb15482",
   "metadata": {},
   "outputs": [],
   "source": [
    "pdf.drop([\"Unnamed: 0\"],axis=1, inplace=True)"
   ]
  },
  {
   "cell_type": "code",
   "execution_count": 4,
   "id": "b305212e",
   "metadata": {},
   "outputs": [],
   "source": [
    "pdf_no_nan = pdf[\"file_texts\"].dropna()"
   ]
  },
  {
   "cell_type": "code",
   "execution_count": 5,
   "id": "83142d17",
   "metadata": {},
   "outputs": [],
   "source": [
    "pdf_clean = pdf_no_nan.replace(r\"\\n\", ' ', regex=True).str.replace('\\d+', ' ') "
   ]
  },
  {
   "cell_type": "code",
   "execution_count": 39,
   "id": "2cfb6ea7",
   "metadata": {},
   "outputs": [],
   "source": [
    "vectorizer = tfidf(analyzer=\"word\" ,stop_words=\"english\", min_df=0.2, max_df=0.9, use_idf=True, smooth_idf=True)"
   ]
  },
  {
   "cell_type": "code",
   "execution_count": 55,
   "id": "2e3721ff",
   "metadata": {},
   "outputs": [],
   "source": [
    "pdf_matrix = vectorizer.fit_transform(pdf_clean)"
   ]
  },
  {
   "cell_type": "code",
   "execution_count": 58,
   "id": "992075f7",
   "metadata": {},
   "outputs": [],
   "source": [
    "X = pdf_matrix.todense()"
   ]
  },
  {
   "cell_type": "code",
   "execution_count": 130,
   "id": "31561ee1",
   "metadata": {},
   "outputs": [],
   "source": [
    "words = vectorizer.get_feature_names()"
   ]
  },
  {
   "cell_type": "code",
   "execution_count": 127,
   "id": "e97703b8",
   "metadata": {},
   "outputs": [],
   "source": [
    "#words = [word for word in words if len(word) < 10]"
   ]
  },
  {
   "cell_type": "code",
   "execution_count": 114,
   "id": "e0e1f68c",
   "metadata": {},
   "outputs": [
    {
     "data": {
      "text/plain": [
       "429"
      ]
     },
     "execution_count": 114,
     "metadata": {},
     "output_type": "execute_result"
    }
   ],
   "source": [
    "len(words)"
   ]
  },
  {
   "cell_type": "code",
   "execution_count": 115,
   "id": "bc250fd0",
   "metadata": {},
   "outputs": [
    {
     "data": {
      "text/plain": [
       "['able',\n",
       " 'accordance',\n",
       " 'account',\n",
       " 'accounting',\n",
       " 'accounts',\n",
       " 'accruals',\n",
       " 'accuracy',\n",
       " 'achievements',\n",
       " 'act',\n",
       " 'activities',\n",
       " 'activity',\n",
       " 'additional',\n",
       " 'additions',\n",
       " 'address',\n",
       " 'administration',\n",
       " 'administrative',\n",
       " 'adopted',\n",
       " 'affairs',\n",
       " 'aid',\n",
       " 'aims',\n",
       " 'allocated',\n",
       " 'amounts',\n",
       " 'analysis',\n",
       " 'annual',\n",
       " 'applicable',\n",
       " 'apply',\n",
       " 'appointed',\n",
       " 'appointment',\n",
       " 'appropriate',\n",
       " 'approved',\n",
       " 'april',\n",
       " 'area',\n",
       " 'areas',\n",
       " 'asset',\n",
       " 'assets',\n",
       " 'association',\n",
       " 'attention',\n",
       " 'audit',\n",
       " 'auditor',\n",
       " 'august',\n",
       " 'available',\n",
       " 'average',\n",
       " 'balance',\n",
       " 'bank',\n",
       " 'bankers',\n",
       " 'based',\n",
       " 'basis',\n",
       " 'behalf',\n",
       " 'believe',\n",
       " 'benefit',\n",
       " 'benefits',\n",
       " 'board',\n",
       " 'body',\n",
       " 'book',\n",
       " 'brought',\n",
       " 'building',\n",
       " 'business',\n",
       " 'capital',\n",
       " 'care',\n",
       " 'carried',\n",
       " 'cash',\n",
       " 'cause',\n",
       " 'centre',\n",
       " 'chair',\n",
       " 'chairman',\n",
       " 'charge',\n",
       " 'charges',\n",
       " 'charitable',\n",
       " 'charities',\n",
       " 'charity',\n",
       " 'children',\n",
       " 'come',\n",
       " 'commission',\n",
       " 'committee',\n",
       " 'community',\n",
       " 'companies',\n",
       " 'company',\n",
       " 'comply',\n",
       " 'concern',\n",
       " 'concerning',\n",
       " 'connection',\n",
       " 'consequently',\n",
       " 'consider',\n",
       " 'consideration',\n",
       " 'considered',\n",
       " 'consistently',\n",
       " 'contents',\n",
       " 'continue',\n",
       " 'continued',\n",
       " 'continues',\n",
       " 'continuing',\n",
       " 'convention',\n",
       " 'cost',\n",
       " 'costs',\n",
       " 'council',\n",
       " 'creditors',\n",
       " 'current',\n",
       " 'date',\n",
       " 'day',\n",
       " 'debtors',\n",
       " 'december',\n",
       " 'decrease',\n",
       " 'deficit',\n",
       " 'depreciation',\n",
       " 'designated',\n",
       " 'details',\n",
       " 'development',\n",
       " 'direct',\n",
       " 'directions',\n",
       " 'directly',\n",
       " 'directors',\n",
       " 'disclose',\n",
       " 'disclosed',\n",
       " 'disclosures',\n",
       " 'document',\n",
       " 'does',\n",
       " 'donations',\n",
       " 'drawn',\n",
       " 'education',\n",
       " 'effective',\n",
       " 'employees',\n",
       " 'enable',\n",
       " 'end',\n",
       " 'ended',\n",
       " 'england',\n",
       " 'ensure',\n",
       " 'entitled',\n",
       " 'equipment',\n",
       " 'established',\n",
       " 'estimated',\n",
       " 'estimates',\n",
       " 'event',\n",
       " 'events',\n",
       " 'evidence',\n",
       " 'examination',\n",
       " 'examiner',\n",
       " 'expended',\n",
       " 'expenditure',\n",
       " 'expenses',\n",
       " 'explanations',\n",
       " 'facilities',\n",
       " 'fair',\n",
       " 'falling',\n",
       " 'february',\n",
       " 'fees',\n",
       " 'finance',\n",
       " 'financial',\n",
       " 'fixed',\n",
       " 'follow',\n",
       " 'followed',\n",
       " 'following',\n",
       " 'follows',\n",
       " 'form',\n",
       " 'fortheyearended',\n",
       " 'forward',\n",
       " 'fraud',\n",
       " 'free',\n",
       " 'frs',\n",
       " 'fund',\n",
       " 'funding',\n",
       " 'fundraising',\n",
       " 'funds',\n",
       " 'future',\n",
       " 'gains',\n",
       " 'general',\n",
       " 'generally',\n",
       " 'given',\n",
       " 'gives',\n",
       " 'going',\n",
       " 'good',\n",
       " 'governance',\n",
       " 'governing',\n",
       " 'grant',\n",
       " 'grants',\n",
       " 'group',\n",
       " 'groups',\n",
       " 'guarantee',\n",
       " 'guidance',\n",
       " 'hand',\n",
       " 'having',\n",
       " 'health',\n",
       " 'held',\n",
       " 'help',\n",
       " 'high',\n",
       " 'historical',\n",
       " 'house',\n",
       " 'ii',\n",
       " 'include',\n",
       " 'included',\n",
       " 'includes',\n",
       " 'including',\n",
       " 'income',\n",
       " 'incoming',\n",
       " 'increase',\n",
       " 'incurred',\n",
       " 'independent',\n",
       " 'independentexaminer',\n",
       " 'individuals',\n",
       " 'information',\n",
       " 'insurance',\n",
       " 'investment',\n",
       " 'investments',\n",
       " 'irregularities',\n",
       " 'issued',\n",
       " 'items',\n",
       " 'january',\n",
       " 'july',\n",
       " 'june',\n",
       " 'keeping',\n",
       " 'kept',\n",
       " 'key',\n",
       " 'kingdom',\n",
       " 'law',\n",
       " 'legal',\n",
       " 'level',\n",
       " 'liabilities',\n",
       " 'liability',\n",
       " 'life',\n",
       " 'limited',\n",
       " 'line',\n",
       " 'local',\n",
       " 'london',\n",
       " 'long',\n",
       " 'loss',\n",
       " 'losses',\n",
       " 'main',\n",
       " 'maintain',\n",
       " 'maintenance',\n",
       " 'major',\n",
       " 'make',\n",
       " 'making',\n",
       " 'management',\n",
       " 'march',\n",
       " 'market',\n",
       " 'material',\n",
       " 'matter',\n",
       " 'matters',\n",
       " 'meet',\n",
       " 'meeting',\n",
       " 'meetings',\n",
       " 'member',\n",
       " 'members',\n",
       " 'met',\n",
       " 'methods',\n",
       " 'months',\n",
       " 'movement',\n",
       " 'mr',\n",
       " 'national',\n",
       " 'need',\n",
       " 'needed',\n",
       " 'needs',\n",
       " 'net',\n",
       " 'new',\n",
       " 'nil',\n",
       " 'non',\n",
       " 'note',\n",
       " 'notes',\n",
       " 'november',\n",
       " 'number',\n",
       " 'objectives',\n",
       " 'objects',\n",
       " 'october',\n",
       " 'office',\n",
       " 'ofthe',\n",
       " 'ofthecharitiesact',\n",
       " 'ofthecompaniesact',\n",
       " 'operating',\n",
       " 'opinion',\n",
       " 'order',\n",
       " 'org',\n",
       " 'organisation',\n",
       " 'organisations',\n",
       " 'outgoing',\n",
       " 'page',\n",
       " 'pages',\n",
       " 'paid',\n",
       " 'particular',\n",
       " 'party',\n",
       " 'payments',\n",
       " 'people',\n",
       " 'performance',\n",
       " 'period',\n",
       " 'place',\n",
       " 'plans',\n",
       " 'policies',\n",
       " 'policy',\n",
       " 'position',\n",
       " 'practice',\n",
       " 'preparation',\n",
       " 'prepare',\n",
       " 'prepared',\n",
       " 'preparing',\n",
       " 'present',\n",
       " 'presented',\n",
       " 'previous',\n",
       " 'principal',\n",
       " 'procedures',\n",
       " 'professional',\n",
       " 'programme',\n",
       " 'project',\n",
       " 'projects',\n",
       " 'proper',\n",
       " 'property',\n",
       " 'provide',\n",
       " 'provided',\n",
       " 'providing',\n",
       " 'provision',\n",
       " 'provisions',\n",
       " 'prudent',\n",
       " 'public',\n",
       " 'purpose',\n",
       " 'purposes',\n",
       " 'raising',\n",
       " 'rates',\n",
       " 'reached',\n",
       " 'reasonable',\n",
       " 'receivable',\n",
       " 'received',\n",
       " 'recognised',\n",
       " 'recommended',\n",
       " 'records',\n",
       " 'reference',\n",
       " 'registered',\n",
       " 'registration',\n",
       " 'regular',\n",
       " 'regulations',\n",
       " 'related',\n",
       " 'relating',\n",
       " 'relevant',\n",
       " 'remuneration',\n",
       " 'report',\n",
       " 'reporting',\n",
       " 'required',\n",
       " 'requirements',\n",
       " 'requires',\n",
       " 'reserves',\n",
       " 'resigned',\n",
       " 'resources',\n",
       " 'respect',\n",
       " 'respective',\n",
       " 'responsibilities',\n",
       " 'responsibility',\n",
       " 'responsible',\n",
       " 'restricted',\n",
       " 'review',\n",
       " 'risk',\n",
       " 'risks',\n",
       " 'road',\n",
       " 'running',\n",
       " 'safeguarding',\n",
       " 'salaries',\n",
       " 'scheme',\n",
       " 'school',\n",
       " 'secretary',\n",
       " 'section',\n",
       " 'seeking',\n",
       " 'select',\n",
       " 'september',\n",
       " 'service',\n",
       " 'services',\n",
       " 'set',\n",
       " 'sheet',\n",
       " 'shown',\n",
       " 'signed',\n",
       " 'skills',\n",
       " 'small',\n",
       " 'social',\n",
       " 'sorp',\n",
       " 'special',\n",
       " 'specific',\n",
       " 'st',\n",
       " 'staff',\n",
       " 'standard',\n",
       " 'standards',\n",
       " 'state',\n",
       " 'stated',\n",
       " 'statement',\n",
       " 'statements',\n",
       " 'statutory',\n",
       " 'steps',\n",
       " 'street',\n",
       " 'structure',\n",
       " 'subject',\n",
       " 'sufficient',\n",
       " 'suitable',\n",
       " 'support',\n",
       " 'supported',\n",
       " 'surplus',\n",
       " 'taken',\n",
       " 'taking',\n",
       " 'tangible',\n",
       " 'tax',\n",
       " 'team',\n",
       " 'term',\n",
       " 'th',\n",
       " 'thecharity',\n",
       " 'time',\n",
       " 'total',\n",
       " 'totalfunds',\n",
       " 'training',\n",
       " 'transactions',\n",
       " 'transfers',\n",
       " 'treasurer',\n",
       " 'true',\n",
       " 'trust',\n",
       " 'trustee',\n",
       " 'trustees',\n",
       " 'uk',\n",
       " 'understanding',\n",
       " 'undertaken',\n",
       " 'united',\n",
       " 'unitedkingdomgenerallyacceptedaccountingpractice',\n",
       " 'unless',\n",
       " 'unrestricted',\n",
       " 'use',\n",
       " 'used',\n",
       " 'useful',\n",
       " 'value',\n",
       " 'view',\n",
       " 'voluntary',\n",
       " 'volunteers',\n",
       " 'wales',\n",
       " 'way',\n",
       " 'website',\n",
       " 'work',\n",
       " 'working',\n",
       " 'www',\n",
       " 'year',\n",
       " 'years']"
      ]
     },
     "execution_count": 115,
     "metadata": {},
     "output_type": "execute_result"
    }
   ],
   "source": [
    "words"
   ]
  },
  {
   "cell_type": "markdown",
   "id": "84584367",
   "metadata": {},
   "source": [
    "# KMeans Tuning & Modeling"
   ]
  },
  {
   "cell_type": "code",
   "execution_count": 116,
   "id": "c52cf4f4",
   "metadata": {},
   "outputs": [],
   "source": [
    "#hyperparameter tuning\n",
    "n_clusters = 4\n",
    "n_iters = 300\n",
    "n_seed = 10\n",
    "\n",
    "pca_num_components = 2\n",
    "tsne_num_components = 2"
   ]
  },
  {
   "cell_type": "code",
   "execution_count": 117,
   "id": "b50034bb",
   "metadata": {},
   "outputs": [],
   "source": [
    "\n",
    "model = KMeans(n_clusters=n_clusters,\n",
    "               init=\"k-means++\",\n",
    "               max_iter=n_iters,\n",
    "               n_init=1, \n",
    "               precompute_distances=\"auto\",\n",
    "               n_jobs=1)"
   ]
  },
  {
   "cell_type": "code",
   "execution_count": 118,
   "id": "5f60f67a",
   "metadata": {},
   "outputs": [
    {
     "data": {
      "text/plain": [
       "KMeans(n_clusters=4, n_init=1, n_jobs=1, precompute_distances='auto')"
      ]
     },
     "execution_count": 118,
     "metadata": {},
     "output_type": "execute_result"
    }
   ],
   "source": [
    "model.fit(X)"
   ]
  },
  {
   "cell_type": "code",
   "execution_count": 119,
   "id": "7d5ed165",
   "metadata": {},
   "outputs": [],
   "source": [
    "labels = model.fit_predict(X)"
   ]
  },
  {
   "cell_type": "code",
   "execution_count": 120,
   "id": "f325caa7",
   "metadata": {},
   "outputs": [
    {
     "data": {
      "text/plain": [
       "array([0, 3, 3, ..., 3, 3, 2], dtype=int32)"
      ]
     },
     "execution_count": 120,
     "metadata": {},
     "output_type": "execute_result"
    }
   ],
   "source": [
    "labels"
   ]
  },
  {
   "cell_type": "code",
   "execution_count": 121,
   "id": "1e27166d",
   "metadata": {},
   "outputs": [
    {
     "data": {
      "text/plain": [
       "3240"
      ]
     },
     "execution_count": 121,
     "metadata": {},
     "output_type": "execute_result"
    }
   ],
   "source": [
    "len(labels)"
   ]
  },
  {
   "cell_type": "code",
   "execution_count": 122,
   "id": "8491c1b1",
   "metadata": {},
   "outputs": [],
   "source": [
    "centroids = model.cluster_centers_.argsort()[:,::1]"
   ]
  },
  {
   "cell_type": "code",
   "execution_count": 123,
   "id": "42fbc7fd",
   "metadata": {},
   "outputs": [
    {
     "data": {
      "text/plain": [
       "array([[153, 411, 196, ..., 146,  69, 427],\n",
       "       [267, 178, 303, ...,  88, 273, 232],\n",
       "       [ 46, 240, 150, ..., 205, 273, 100],\n",
       "       [167, 243, 416, ..., 273, 206,  39]])"
      ]
     },
     "execution_count": 123,
     "metadata": {},
     "output_type": "execute_result"
    }
   ],
   "source": [
    "centroids"
   ]
  },
  {
   "cell_type": "code",
   "execution_count": 132,
   "id": "0da91621",
   "metadata": {},
   "outputs": [
    {
     "name": "stdout",
     "output_type": "stream",
     "text": [
      "Cluster 0:\n",
      "fortheyearended\n",
      "unitedkingdomgenerallyacceptedaccountingpractice\n",
      "independentexaminer\n",
      "Cluster 1:\n",
      "opinion\n",
      "hand\n",
      "provide\n",
      "Cluster 2:\n",
      "basis\n",
      "member\n",
      "following\n",
      "Cluster 3:\n",
      "gives\n",
      "methods\n",
      "useful\n"
     ]
    }
   ],
   "source": [
    "for i in range(n_clusters):\n",
    "    print(f\"Cluster {i}:\")\n",
    "    for ind in centroids[i,:3]:\n",
    "        print(f\"{words[ind]}\")"
   ]
  },
  {
   "cell_type": "code",
   "execution_count": 96,
   "id": "aaa6fd29",
   "metadata": {},
   "outputs": [],
   "source": [
    "reduced_data = PCA(n_components = pca_num_components).fit_transform(X)"
   ]
  },
  {
   "cell_type": "code",
   "execution_count": 80,
   "id": "d0e4d706",
   "metadata": {},
   "outputs": [
    {
     "data": {
      "image/png": "[encoded data removed]",
      "text/plain": [
       "<Figure size 432x288 with 1 Axes>"
      ]
     },
     "metadata": {
      "needs_background": "light"
     },
     "output_type": "display_data"
    }
   ],
   "source": [
    "fig,ax = plt.subplots()\n",
    "for i, instance in enumerate(reduced_data):\n",
    "    pca_comp1,pca_comp2 = reduced_data[i]\n",
    "    ax.scatter(pca_comp1,pca_comp2)\n",
    "plt.show()"
   ]
  },
  {
   "cell_type": "code",
   "execution_count": null,
   "id": "f46ff93a",
   "metadata": {},
   "outputs": [],
   "source": []
  }
 ],
 "metadata": {
  "kernelspec": {
   "display_name": "Python 3",
   "language": "python",
   "name": "python3"
  },
  "language_info": {
   "codemirror_mode": {
    "name": "ipython",
    "version": 3
   },
   "file_extension": ".py",
   "mimetype": "text/x-python",
   "name": "python",
   "nbconvert_exporter": "python",
   "pygments_lexer": "ipython3",
   "version": "3.8.8"
  }
 },
 "nbformat": 4,
 "nbformat_minor": 5
}
