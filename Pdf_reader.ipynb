{
 "cells": [
  {
   "cell_type": "code",
   "execution_count": 1,
   "id": "ffc4d0cd",
   "metadata": {},
   "outputs": [],
   "source": [
    "#PDF to text translator\n",
    "from PyPDF2 import PdfFileReader, PdfFileWriter\n",
    "import textract\n",
    "\n",
    "#Natural language toolkit\n",
    "from nltk.tokenize import word_tokenize\n",
    "from nltk.corpus import stopwords\n",
    "\n",
    "#python module\n",
    "from collections import Counter\n",
    "import os\n",
    "\n",
    "#data\n",
    "import pandas as pd\n",
    "\n",
    "#warning\n",
    "import warnings\n",
    "warnings.filterwarnings(\"ignore\")"
   ]
  },
  {
   "cell_type": "markdown",
   "id": "231ad671",
   "metadata": {},
   "source": [
    "# Test Path\n"
   ]
  },
  {
   "cell_type": "code",
   "execution_count": 16,
   "id": "427f3dea",
   "metadata": {},
   "outputs": [],
   "source": [
    "path = \"/home/sergei/Public/BeCode/Projects/kleister-charity/documents/0af6fdf38d047a7112ea1a1bacb9d2ce.pdf\""
   ]
  },
  {
   "cell_type": "markdown",
   "id": "600b0201",
   "metadata": {},
   "source": [
    "# PyPDF2"
   ]
  },
  {
   "cell_type": "code",
   "execution_count": null,
   "id": "1b71b415",
   "metadata": {},
   "outputs": [],
   "source": [
    "def pdf_to_text(pdf_file):\n",
    "    full_text = \"\"\n",
    "    pdf = PdfFileReader(pdf_file)\n",
    "    for page_num in range(pdf.numPages):\n",
    "        page_obj = pdf.getPage(page_num)\n",
    "        text = page_obj.extractText()\n",
    "        if text != \"\":\n",
    "            text = text\n",
    "        else:\n",
    "            text = textract.process(pdf_file,language=\"eng\")\n",
    "        full_text += text\n",
    "    #print(full_text)    \n",
    "    return full_text\n",
    "\n",
    "pdf_to_text(path)"
   ]
  },
  {
   "cell_type": "markdown",
   "id": "bf831373",
   "metadata": {},
   "source": [
    "# Textract"
   ]
  },
  {
   "cell_type": "code",
   "execution_count": 25,
   "id": "1e8588af",
   "metadata": {},
   "outputs": [],
   "source": [
    "def pdf_to_text_2(path):\n",
    "    try:\n",
    "        text = textract.process(path)\n",
    "    except:\n",
    "        text = \"\"\n",
    "    return text"
   ]
  },
  {
   "cell_type": "code",
   "execution_count": 29,
   "id": "5c815d93",
   "metadata": {},
   "outputs": [
    {
     "data": {
      "text/plain": [
       "1"
      ]
     },
     "execution_count": 29,
     "metadata": {},
     "output_type": "execute_result"
    }
   ],
   "source": [
    "ls = []\n",
    "ls.append(pdf_to_text_2(path))\n",
    "len(ls)"
   ]
  },
  {
   "cell_type": "markdown",
   "id": "e6e93ec9",
   "metadata": {},
   "source": [
    "# Reads all PDF in a folder"
   ]
  },
  {
   "cell_type": "code",
   "execution_count": 3,
   "id": "07f31d0a",
   "metadata": {},
   "outputs": [],
   "source": [
    "directory = \"/home/sergei/Public/BeCode/Projects/kleister-charity/documents\"\n",
    "file_name = \"new_file.tsv\"\n",
    "file_names = []\n",
    "file_texts = []\n"
   ]
  },
  {
   "cell_type": "code",
   "execution_count": 22,
   "id": "d6fbe4e6",
   "metadata": {},
   "outputs": [
    {
     "name": "stdout",
     "output_type": "stream",
     "text": [
      "CPU times: user 2 µs, sys: 0 ns, total: 2 µs\n",
      "Wall time: 4.53 µs\n"
     ]
    }
   ],
   "source": [
    "%time\n",
    "for file in os.listdir(directory):\n",
    "    if not file.endswith(\".pdf\"):\n",
    "        continue\n",
    "    path = os.path.join(directory,file)\n",
    "    file_names.append(file)\n",
    "    file_texts.append(pdf_to_text_2(path))"
   ]
  },
  {
   "cell_type": "code",
   "execution_count": 25,
   "id": "2bc0ea65",
   "metadata": {},
   "outputs": [],
   "source": [
    "pdf_data = pd.DataFrame({\"file_name\":file_names, \"file_texts\":file_texts})"
   ]
  },
  {
   "cell_type": "code",
   "execution_count": 27,
   "id": "726e87c5",
   "metadata": {},
   "outputs": [],
   "source": [
    "pdf_data.to_csv(\"pdf_data_textract.tsv\")"
   ]
  },
  {
   "cell_type": "markdown",
   "id": "0a8b010d",
   "metadata": {},
   "source": [
    "# Test PDF File"
   ]
  },
  {
   "cell_type": "code",
   "execution_count": 35,
   "id": "2ec40677",
   "metadata": {},
   "outputs": [],
   "source": [
    "test_path = \"/home/sergei/Public/BeCode/Projects/kleister-charity/documents/1d867ee90f157f86e22878aa0d37477f.pdf\"\n",
    "test_file_names = []\n",
    "test_file_texts = []\n",
    "def pdf_to_text_2(path):\n",
    "    try:\n",
    "        text = textract.process(path)\n",
    "    except:\n",
    "        text = \"\"\n",
    "    return text"
   ]
  },
  {
   "cell_type": "code",
   "execution_count": 36,
   "id": "8ecc6fd6",
   "metadata": {},
   "outputs": [],
   "source": [
    "test_file_texts.append(pdf_to_text_2(path))\n",
    "test_file_names = [\"0af6fdf38d047a7112ea1a1bacb9d2ce.pdf\"]"
   ]
  },
  {
   "cell_type": "code",
   "execution_count": 37,
   "id": "cfd44d04",
   "metadata": {},
   "outputs": [],
   "source": [
    "test_pdf = pd.DataFrame({\"file_name\":test_file_names,\"file_texts\":test_file_texts})"
   ]
  },
  {
   "cell_type": "code",
   "execution_count": 38,
   "id": "e2f03f8b",
   "metadata": {},
   "outputs": [],
   "source": [
    "test_pdf.to_csv(\"pdf_test.tsv\")"
   ]
  },
  {
   "cell_type": "code",
   "execution_count": null,
   "id": "b167187e",
   "metadata": {},
   "outputs": [],
   "source": []
  }
 ],
 "metadata": {
  "kernelspec": {
   "display_name": "Python 3",
   "language": "python",
   "name": "python3"
  },
  "language_info": {
   "codemirror_mode": {
    "name": "ipython",
    "version": 3
   },
   "file_extension": ".py",
   "mimetype": "text/x-python",
   "name": "python",
   "nbconvert_exporter": "python",
   "pygments_lexer": "ipython3",
   "version": "3.8.8"
  }
 },
 "nbformat": 4,
 "nbformat_minor": 5
}
