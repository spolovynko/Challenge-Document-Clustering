{
 "cells": [
  {
   "cell_type": "code",
   "execution_count": 1,
   "id": "f620f845",
   "metadata": {},
   "outputs": [],
   "source": [
    "#Data mantipulation\n",
    "import pandas as pd\n",
    "import numpy as np\n",
    "\n",
    "#Machine Learning Modules\n",
    "from sklearn.feature_extraction.text import TfidfVectorizer\n",
    "from sklearn.cluster import KMeans"
   ]
  },
  {
   "cell_type": "code",
   "execution_count": 2,
   "id": "6f654ddc",
   "metadata": {},
   "outputs": [
    {
     "data": {
      "text/html": [
       "<div>\n",
       "<style scoped>\n",
       "    .dataframe tbody tr th:only-of-type {\n",
       "        vertical-align: middle;\n",
       "    }\n",
       "\n",
       "    .dataframe tbody tr th {\n",
       "        vertical-align: top;\n",
       "    }\n",
       "\n",
       "    .dataframe thead th {\n",
       "        text-align: right;\n",
       "    }\n",
       "</style>\n",
       "<table border=\"1\" class=\"dataframe\">\n",
       "  <thead>\n",
       "    <tr style=\"text-align: right;\">\n",
       "      <th></th>\n",
       "      <th>file_name</th>\n",
       "      <th>list_keys</th>\n",
       "      <th>pdf2djvu/djvu2hocr</th>\n",
       "      <th>tesseract</th>\n",
       "      <th>textract</th>\n",
       "      <th>pdf2djvu/djvu2hocr_tesseract</th>\n",
       "    </tr>\n",
       "  </thead>\n",
       "  <tbody>\n",
       "    <tr>\n",
       "      <th>0</th>\n",
       "      <td>009fab39d746267b6de8428366fe4b02.pdf</td>\n",
       "      <td>address__post_town address__postcode address__...</td>\n",
       "      <td>\\fAnnual Report 2015-2017 July, 2017\\nStepping...</td>\n",
       "      <td>\\n; Na {if anv)\\n{\\noA el\\nC 3 QIC [1€d C\\nf (...</td>\n",
       "      <td>Charity Name\\nNo lif anv)\\nStepping Stone Thea...</td>\n",
       "      <td>\\n; Na {if anv)\\n{\\noA el\\nC 3 QIC [1€d C\\nf (...</td>\n",
       "    </tr>\n",
       "    <tr>\n",
       "      <th>1</th>\n",
       "      <td>01c7fd563327947c68abdd9717ef228d.pdf</td>\n",
       "      <td>address__post_town address__postcode address__...</td>\n",
       "      <td>Promoting Independent Living\\nCelebrating new\\...</td>\n",
       "      <td>54 S ke *\\nB\\n \\nWelcome to our Annual\\nReport...</td>\n",
       "      <td>Promoting Independent Living\\nAbility\\nAbility...</td>\n",
       "      <td>54 S ke *\\nB\\n \\nWelcome to our Annual\\nReport...</td>\n",
       "    </tr>\n",
       "    <tr>\n",
       "      <th>2</th>\n",
       "      <td>01d804edf76bec4912d2466908a60889.pdf</td>\n",
       "      <td>address__post_town address__postcode address__...</td>\n",
       "      <td>Annual Repor t 8\\nAccounts 2017/18\\nYear ended...</td>\n",
       "      <td>Annual Report &amp;\\nAccounts 2017//183\\nYear ende...</td>\n",
       "      <td>Annua Report &amp;\\nAccounts 2017/18\\nYear ended 3...</td>\n",
       "      <td>Annual Repor t 8\\nAccounts 2017/18\\nYear ended...</td>\n",
       "    </tr>\n",
       "    <tr>\n",
       "      <th>3</th>\n",
       "      <td>01e4461b059e707b7d8276b3d2b80b71.pdf</td>\n",
       "      <td>address__post_town address__postcode address__...</td>\n",
       "      <td>The Greenway Centre\\n(Registered charity, numb...</td>\n",
       "      <td>The Greenway Centre\\n(Registered charity, numb...</td>\n",
       "      <td>The Greenway Centre\\n(Registered charity, numb...</td>\n",
       "      <td>The Greenway Centre\\n(Registered charity, numb...</td>\n",
       "    </tr>\n",
       "    <tr>\n",
       "      <th>4</th>\n",
       "      <td>01f91ab7c5e0a5686a0ae1d1d4099b09.pdf</td>\n",
       "      <td>address__post_town address__postcode address__...</td>\n",
       "      <td>KEMPTON GREAT ENGINES TRUST UMITED\\nFINANCIAL ...</td>\n",
       "      <td>KEMPTON GREAT ENGINES TRUST LIMITED\\nFINANCIAL...</td>\n",
       "      <td>KEMPTON GREAT ENGINES TRUST LIMITED\\nFINANCIAL...</td>\n",
       "      <td>KEMPTON GREAT ENGINES TRUST UMITED\\nFINANCIAL ...</td>\n",
       "    </tr>\n",
       "  </tbody>\n",
       "</table>\n",
       "</div>"
      ],
      "text/plain": [
       "                              file_name  \\\n",
       "0  009fab39d746267b6de8428366fe4b02.pdf   \n",
       "1  01c7fd563327947c68abdd9717ef228d.pdf   \n",
       "2  01d804edf76bec4912d2466908a60889.pdf   \n",
       "3  01e4461b059e707b7d8276b3d2b80b71.pdf   \n",
       "4  01f91ab7c5e0a5686a0ae1d1d4099b09.pdf   \n",
       "\n",
       "                                           list_keys  \\\n",
       "0  address__post_town address__postcode address__...   \n",
       "1  address__post_town address__postcode address__...   \n",
       "2  address__post_town address__postcode address__...   \n",
       "3  address__post_town address__postcode address__...   \n",
       "4  address__post_town address__postcode address__...   \n",
       "\n",
       "                                  pdf2djvu/djvu2hocr  \\\n",
       "0  \\fAnnual Report 2015-2017 July, 2017\\nStepping...   \n",
       "1  Promoting Independent Living\\nCelebrating new\\...   \n",
       "2  Annual Repor t 8\\nAccounts 2017/18\\nYear ended...   \n",
       "3  The Greenway Centre\\n(Registered charity, numb...   \n",
       "4  KEMPTON GREAT ENGINES TRUST UMITED\\nFINANCIAL ...   \n",
       "\n",
       "                                           tesseract  \\\n",
       "0  \\n; Na {if anv)\\n{\\noA el\\nC 3 QIC [1€d C\\nf (...   \n",
       "1  54 S ke *\\nB\\n \\nWelcome to our Annual\\nReport...   \n",
       "2  Annual Report &\\nAccounts 2017//183\\nYear ende...   \n",
       "3  The Greenway Centre\\n(Registered charity, numb...   \n",
       "4  KEMPTON GREAT ENGINES TRUST LIMITED\\nFINANCIAL...   \n",
       "\n",
       "                                            textract  \\\n",
       "0  Charity Name\\nNo lif anv)\\nStepping Stone Thea...   \n",
       "1  Promoting Independent Living\\nAbility\\nAbility...   \n",
       "2  Annua Report &\\nAccounts 2017/18\\nYear ended 3...   \n",
       "3  The Greenway Centre\\n(Registered charity, numb...   \n",
       "4  KEMPTON GREAT ENGINES TRUST LIMITED\\nFINANCIAL...   \n",
       "\n",
       "                        pdf2djvu/djvu2hocr_tesseract  \n",
       "0  \\n; Na {if anv)\\n{\\noA el\\nC 3 QIC [1€d C\\nf (...  \n",
       "1  54 S ke *\\nB\\n \\nWelcome to our Annual\\nReport...  \n",
       "2  Annual Repor t 8\\nAccounts 2017/18\\nYear ended...  \n",
       "3  The Greenway Centre\\n(Registered charity, numb...  \n",
       "4  KEMPTON GREAT ENGINES TRUST UMITED\\nFINANCIAL ...  "
      ]
     },
     "execution_count": 2,
     "metadata": {},
     "output_type": "execute_result"
    }
   ],
   "source": [
    "data = pd.read_csv(\"/home/sergei/Public/BeCode/Projects/kleister-charity/train/in.tsv\", sep=\"\\t\", encoding=\"utf-8\")\n",
    "data.columns = [\"file_name\", \"list_keys\", \"pdf2djvu/djvu2hocr\", \"tesseract\", \"textract\", \"pdf2djvu/djvu2hocr_tesseract\"]\n",
    "\n",
    "data.head()"
   ]
  },
  {
   "cell_type": "code",
   "execution_count": 5,
   "id": "d5e953a6",
   "metadata": {},
   "outputs": [],
   "source": [
    "tesseract = data[\"tesseract\"]\n",
    "textract = data[\"textract\"]\n",
    "pdf2djvu = data[\"pdf2djvu/djvu2hocr\"]"
   ]
  },
  {
   "cell_type": "code",
   "execution_count": 7,
   "id": "4e521669",
   "metadata": {},
   "outputs": [
    {
     "name": "stderr",
     "output_type": "stream",
     "text": [
      "<ipython-input-7-8255a85fbb51>:2: FutureWarning: The default value of regex will change from True to False in a future version.\n",
      "  texte = data[\"textract\"].dropna().replace(r\"\\\\n\", '', regex=True).str.replace('\\d+', '')\n"
     ]
    },
    {
     "name": "stdout",
     "output_type": "stream",
     "text": [
      "['ability', 'able', 'absolute', 'academic', 'academy', 'accept', 'accepted', 'acceptedaccounting', 'access', 'accessible', 'accommodation', 'accord', 'accordance', 'accordancewith', 'according', 'accordingly', 'account', 'accountancy', 'accountants', 'accounted', 'accountfor', 'accounting', 'accountingpractice', 'accountingrequirements', 'accountingthe', 'accountingunrestricted', 'accounts', 'accountsfor', 'accountspresented', 'accrual', 'accruals', 'accrued', 'accumulated', 'accuracy', 'achieve', 'achieved', 'achievement', 'achievements', 'achieving', 'acknowledge', 'acomparison', 'acquired', 'acquisition', 'act', 'acted', 'acthave', 'acting', 'action', 'actions', 'active', 'actively', 'activities', 'activitiesbalance', 'activitiesfor', 'activitiesthe', 'activity', 'acts', 'actual', 'actuarial', 'actuary', 'add', 'added', 'addition', 'additional', 'additions', 'address', 'addresses', 'adequate', 'adequately', 'adjustment', 'adjustments', 'administered', 'administration', 'administrative', 'adopt', 'adopted', 'adult', 'adults', 'advance', 'advancement', 'advantage', 'advertising', 'advice', 'advisers', 'advisory', 'affairs', 'affect', 'affected', 'age', 'aged', 'agencies', 'agency', 'ages', 'aggregate', 'agm', 'agree', 'agreed', 'agreement', 'ahead', 'aid', 'aim', 'aimed', 'aims', 'al', 'allocated', 'allocation', 'allow', 'allowance', 'allowed', 'allowing', 'allows', 'alongside', 'alternative', 'amended', 'amortised', 'amounted', 'amounting', 'amounts', 'analysed', 'analysis', 'andconsequently', 'andexpenditure', 'andfinancial', 'andhave', 'andother', 'andprepare', 'andrew', 'andthe', 'andto', 'anindependent', 'annual', 'annually', 'annum', 'anticipated', 'apparent', 'appeal', 'appears', 'applicable', 'application', 'applications', 'applied', 'apply', 'applying', 'appoint', 'appointed', 'appointment', 'appointments', 'apportioned', 'approach', 'appropriate', 'approval', 'approve', 'approved', 'approximately', 'april', 'area', 'areas', 'areresponsible', 'arise', 'arises', 'arising', 'arrangement', 'arrangements', 'art', 'articles', 'arts', 'aside', 'asked', 'aspects', 'assess', 'assessed', 'assessing', 'assessment', 'assessments', 'asset', 'assets', 'assetsdebtors', 'assetstangible', 'assist', 'assistance', 'assisted', 'assisting', 'associated', 'association', 'assume', 'assumptions', 'assurance', 'attached', 'attend', 'attendance', 'attended', 'attending', 'attention', 'atthe', 'attract', 'attracting', 'attributable', 'attributed', 'audit', 'audited', 'auditing', 'auditor', 'auditoras', 'auditors', 'august', 'authorised', 'authorities', 'authority', 'autumn', 'available', 'average', 'award', 'awarded', 'awards', 'aware', 'awareness', 'away', 'backgrounds', 'bad', 'balance', 'balances', 'bank', 'banks', 'base', 'based', 'basic', 'basis', 'began', 'beginning', 'behalf', 'believe', 'beneficiaries', 'benefit', 'benefits', 'benefitthe', 'best', 'better', 'big', 'board', 'bodies', 'body', 'bond', 'bonds', 'book', 'books', 'borough', 'box', 'branches', 'brief', 'bring', 'bringing', 'british', 'broad', 'brought', 'budget', 'budgets', 'build', 'building', 'buildings', 'built', 'business', 'businesses', 'bycharities', 'bythe', 'calculated', 'called', 'came', 'campaign', 'cancellable', 'capacity', 'capita', 'capital', 'capitalised', 'care', 'career', 'carers', 'carried', 'carry', 'carrying', 'case', 'cases', 'cash', 'cast', 'categories', 'category', 'catering', 'cause', 'caused', 'cease', 'central', 'centre', 'centres', 'certain', 'certainty', 'chair', 'chairman', 'challenge', 'challenges', 'challenging', 'change', 'changed', 'changes', 'changing', 'chapter', 'charge', 'charged', 'charges', 'charging', 'charitable', 'charitablecompany', 'charities', 'charity', 'charitycommission', 'charitythe', 'chartered', 'chief', 'child', 'children', 'choice', 'choose', 'chosen', 'christian', 'christmas', 'church', 'churches', 'circumstances', 'city', 'class', 'classes', 'classified', 'cleaning', 'clear', 'clearly', 'clients', 'close', 'closed', 'closely', 'closing', 'club', 'clubs', 'code', 'coffee', 'collaboration', 'collection', 'collections', 'college', 'combination', 'combined', 'come', 'coming', 'commenced', 'commercial', 'commission', 'commissioners', 'commitment', 'commitments', 'committed', 'committee', 'committees', 'committing', 'common', 'communication', 'communications', 'communities', 'community', 'companies', 'companiesact', 'company', 'comparative', 'compared', 'comparison', 'competition', 'complete', 'completed', 'completion', 'complex', 'compliance', 'complied', 'comply', 'complying', 'comprehensive', 'comprise', 'comprises', 'comprising', 'computer', 'concern', 'concerning', 'concerns', 'concernthe', 'conclusion', 'condition', 'conditions', 'conduct', 'conducted', 'conference', 'conferences', 'confidence', 'confident', 'confirm', 'confirmed', 'connected', 'connection', 'consequently', 'consider', 'considerable', 'consideration', 'considered', 'considering', 'considers', 'consist', 'consistent', 'consistently', 'consists', 'consolidate', 'consolidated', 'constituted', 'constitutes', 'constitution', 'constitutional', 'construction', 'constructive', 'consultancy', 'consultation', 'contact', 'contained', 'content', 'context', 'contingent', 'continue', 'continued', 'continuedfor', 'continues', 'continuing', 'contract', 'contracted', 'contracts', 'contractual', 'contribute', 'contributed', 'contributes', 'contribution', 'contributions', 'control', 'controlled', 'controlling', 'controls', 'convention', 'conventionthe', 'copy', 'core', 'corporate', 'corporation', 'cost', 'costing', 'costs', 'coststhe', 'council', 'country', 'county', 'course', 'courses', 'court', 'cover', 'covered', 'covering', 'covers', 'create', 'created', 'creating', 'creative', 'credit', 'credited', 'creditors', 'creditorsamounts', 'criteria', 'critical', 'cross', 'cultural', 'culture', 'currency', 'current', 'currentliabilities', 'currently', 'custodian', 'daily', 'data', 'date', 'dated', 'dates', 'david', 'day', 'days', 'deal', 'debt', 'debtors', 'debts', 'december', 'decided', 'decision', 'decisions', 'declaration', 'declare', 'decrease', 'dedicated', 'deed', 'deemed', 'deferred', 'deficit', 'defined', 'definition', 'delegated', 'delighted', 'deliver', 'delivered', 'delivering', 'delivery', 'demand', 'department', 'departures', 'dependent', 'deposit', 'deposits', 'depreciated', 'depreciation', 'depreciationat', 'deputy', 'derive', 'derived', 'described', 'description', 'design', 'designated', 'designed', 'despite', 'detailed', 'details', 'detailscharity', 'detailsregistered', 'detect', 'detection', 'determine', 'determined', 'develop', 'developed', 'developing', 'development', 'developments', 'did', 'differ', 'difference', 'different', 'difficult', 'digital', 'direct', 'direction', 'directions', 'directly', 'director', 'directors', 'disabilities', 'disability', 'disabled', 'disclose', 'disclosed', 'disclosing', 'disclosure', 'disclosures', 'discount', 'discounted', 'discounts', 'discretion', 'discuss', 'discussed', 'discussion', 'discussions', 'disposal', 'disposals', 'dissemination', 'distributed', 'distribution', 'district', 'diverse', 'diversity', 'dividends', 'document', 'documents', 'documentthe', 'does', 'doing', 'donated', 'donation', 'donations', 'donor', 'donors', 'doubt', 'dr', 'drama', 'draw', 'drawn', 'drive', 'drop', 'duewithin', 'duringthe', 'duties', 'duty', 'earlier', 'early', 'earned', 'east', 'economic', 'education', 'educational', 'effect', 'effective', 'effectively', 'effectiveness', 'efficient', 'effort', 'efforts', 'elected', 'election', 'element', 'elements', 'eligible', 'email', 'emergency', 'emoluments', 'emphasis', 'employed', 'employee', 'employees', 'employer', 'employers', 'employment', 'enable', 'enabled', 'enables', 'enabling', 'encourage', 'encouraged', 'encouraging', 'end', 'ended', 'ending', 'endowment', 'endowments', 'energy', 'engage', 'engaged', 'engagement', 'engaging', 'england', 'english', 'enhance', 'enhanced', 'enil', 'enjoy', 'enjoyed', 'enquiries', 'ensure', 'ensures', 'ensuring', 'entered', 'entities', 'entitled', 'entitlement', 'entity', 'environment', 'environmental', 'equal', 'equipment', 'equities', 'equity', 'equivalent', 'equivalents', 'error', 'especially', 'essential', 'establish', 'established', 'establishment', 'estate', 'estimate', 'estimated', 'estimates', 'estimation', 'ethical', 'evaluation', 'evening', 'event', 'events', 'evidence', 'ex', 'examination', 'examine', 'examined', 'examiner', 'examiners', 'examinerthe', 'example', 'exceeded', 'exceeding', 'excellence', 'excellent', 'exception', 'exceptional', 'exceptionwe', 'excess', 'exchange', 'exciting', 'excluding', 'exclusively', 'executive', 'exempt', 'exemption', 'exemptions', 'exercise', 'existence', 'existing', 'exists', 'expand', 'expectation', 'expectations', 'expected', 'expendable', 'expended', 'expendedcharitable', 'expendedcosts', 'expendedexpenditure', 'expenditure', 'expenditureexpenditure', 'expense', 'expenses', 'experience', 'experienced', 'experiences', 'expertise', 'explain', 'explained', 'explanation', 'explanations', 'explore', 'exposed', 'exposure', 'express', 'expressed', 'extend', 'extended', 'extensive', 'extent', 'external', 'extra', 'extremely', 'face', 'faced', 'faces', 'facilitate', 'facilities', 'facility', 'facing', 'fact', 'factors', 'fair', 'faith', 'fall', 'falling', 'families', 'family', 'far', 'fca', 'february', 'fee', 'feedback', 'feel', 'fees', 'festival', 'field', 'figure', 'figures', 'final', 'finally', 'finance', 'finances', 'financia', 'financial', 'financialactivities', 'financially', 'financialreporting', 'financialstatements', 'financing', 'fit', 'fittings', 'fixed', 'fixtures', 'fk', 'floor', 'flow', 'flows', 'focus', 'focused', 'follow', 'followed', 'following', 'follows', 'food', 'foreign', 'foreseeable', 'form', 'formal', 'formally', 'formed', 'forms', 'forthe', 'forum', 'forward', 'foundation', 'founded', 'framework', 'fraud', 'frc', 'free', 'freehold', 'friends', 'fromthe', 'frs', 'fulfil', 'fulfilled', 'fullest', 'fully', 'fun', 'function', 'functional', 'functions', 'fund', 'funded', 'funders', 'funding', 'fundraising', 'funds', 'fundsat', 'fundsbalance', 'fundsgeneral', 'fundsrestricted', 'fundsthe', 'fundstotal', 'fundsunrestricted', 'furniture', 'furtherance', 'future', 'gain', 'gains', 'garden', 'gave', 'genera', 'general', 'generally', 'generate', 'generated', 'generating', 'generation', 'generous', 'gift', 'gifts', 'girls', 'given', 'gives', 'giving', 'global', 'goals', 'going', 'good', 'goods', 'governance', 'governed', 'governing', 'government', 'grant', 'granted', 'grants', 'grateful', 'great', 'greater', 'greatly', 'green', 'gross', 'ground', 'grounds', 'group', 'groups', 'grow', 'growing', 'growth', 'guarantee', 'guidance', 'guidelines', 'half', 'hall', 'hand', 'hard', 'hardship', 'hasbeen', 'havebeen', 'having', 'head', 'headings', 'health', 'healthy', 'heart', 'heat', 'held', 'help', 'helped', 'helping', 'helps', 'heritage', 'high', 'higher', 'highest', 'highlight', 'highly', 'hill', 'hire', 'historic', 'historical', 'history', 'hold', 'holding', 'holds', 'holiday', 'home', 'homes', 'hope', 'hospital', 'host', 'hosted', 'hours', 'house', 'housing', 'huge', 'human', 'ideas', 'identified', 'identify', 'identifying', 'ii', 'iii', 'immediate', 'immediately', 'impact', 'impairment', 'implement', 'implementation', 'implemented', 'implications', 'importance', 'important', 'imposed', 'improve', 'improved', 'improvement', 'improvements', 'improving', 'inaccordance', 'inappropriate', 'include', 'included', 'includes', 'including', 'inclusion', 'inclusive', 'income', 'incoming', 'incomingresources', 'inconsistencies', 'inconsistent', 'incorporated', 'incorporating', 'increase', 'increased', 'increases', 'increasing', 'increasingly', 'incurred', 'independent', 'independentexamination', 'independently', 'indicators', 'individual', 'individually', 'individuals', 'induction', 'inflation', 'inflow', 'influence', 'inform', 'information', 'informationthe', 'informed', 'infrastructure', 'initial', 'initially', 'initiative', 'initiatives', 'innovative', 'institute', 'institutions', 'instrument', 'instruments', 'instrumentsthe', 'insurance', 'integral', 'integrity', 'intend', 'intended', 'intention', 'interests', 'internal', 'international', 'inthe', 'introduced', 'introduction', 'invest', 'invested', 'investing', 'investment', 'investments', 'investmentsinvestments', 'invited', 'involved', 'involvement', 'involves', 'involving', 'ireland', 'irrecoverable', 'irregularities', 'isas', 'issue', 'issued', 'issues', 'item', 'items', 'james', 'january', 'job', 'john', 'join', 'joined', 'joint', 'judgements', 'judgments', 'july', 'june', 'jurisdictions', 'just', 'keeping', 'keeps', 'kept', 'key', 'kind', 'king', 'kingdom', 'know', 'knowledge', 'known', 'lack', 'laid', 'land', 'lane', 'large', 'largely', 'largest', 'late', 'later', 'latest', 'launch', 'launched', 'law', 'lead', 'leader', 'leaders', 'leadership', 'leading', 'learn', 'learning', 'lease', 'leasehold', 'leases', 'leave', 'leaving', 'led', 'left', 'legacies', 'legacy', 'legal', 'legally', 'legislation', 'leisure', 'level', 'levels', 'liabilities', 'liabilitiescreditors', 'liability', 'liable', 'life', 'light', 'like', 'likely', 'limited', 'line', 'linked', 'links', 'liquid', 'list', 'listed', 'little', 'live', 'lives', 'living', 'llp', 'loan', 'loans', 'local', 'locally', 'located', 'london', 'long', 'longer', 'look', 'looking', 'lord', 'loss', 'losses', 'lottery', 'love', 'low', 'lower', 'main', 'mainly', 'maintain', 'maintained', 'maintaining', 'maintains', 'maintenance', 'major', 'majority', 'make', 'makes', 'making', 'manage', 'managed', 'management', 'managementgoverning', 'managementthe', 'manager', 'managers', 'managing', 'manner', 'march', 'mark', 'market', 'marketing', 'mary', 'match', 'material', 'materially', 'materials', 'matter', 'matters', 'maturity', 'maximise', 'maximum', 'means', 'measure', 'measured', 'measures', 'media', 'medical', 'medium', 'meet', 'meeting', 'meetings', 'meets', 'member', 'members', 'membership', 'memorandum', 'memorial', 'men', 'mental', 'met', 'method', 'methods', 'michael', 'million', 'mind', 'minimum', 'ministry', 'minutes', 'mission', 'misstatement', 'misstatements', 'mitigate', 'model', 'modern', 'modified', 'monetary', 'money', 'monies', 'monitor', 'monitored', 'monitoring', 'month', 'monthly', 'months', 'motor', 'moved', 'movement', 'movements', 'moving', 'mr', 'mrs', 'ms', 'multi', 'music', 'names', 'national', 'nationally', 'nature', 'nd', 'nearest', 'nearly', 'necessary', 'need', 'needed', 'needs', 'net', 'network', 'new', 'newly', 'news', 'nhs', 'night', 'nil', 'nominated', 'non', 'normal', 'normally', 'north', 'note', 'noted', 'notes', 'notice', 'notified', 'november', 'number', 'numberprincipal', 'numberregistered', 'numbers', 'object', 'objective', 'objectives', 'objectivesthe', 'objects', 'obligation', 'obligations', 'observe', 'obtain', 'obtained', 'obtaining', 'october', 'offer', 'offered', 'offering', 'offers', 'office', 'officer', 'officers', 'offices', 'offinancial', 'ofrecommended', 'ofthe', 'old', 'older', 'ongoing', 'online', 'onthe', 'open', 'opened', 'opening', 'operate', 'operated', 'operates', 'operating', 'operation', 'operational', 'operations', 'opinion', 'opinions', 'opportunities', 'opportunity', 'opted', 'optional', 'options', 'orcertain', 'order', 'ordinary', 'org', 'organisation', 'organisational', 'organisations', 'organised', 'original', 'orthe', 'orwe', 'ought', 'outcome', 'outcomes', 'outflow', 'outgoing', 'outlined', 'outreach', 'outside', 'outstanding', 'overall', 'overheads', 'overseas', 'owed', 'owned', 'ownership', 'owns', 'page', 'pages', 'paid', 'parent', 'parents', 'parish', 'park', 'participants', 'participate', 'participates', 'participating', 'participation', 'particular', 'particularly', 'parties', 'partner', 'partners', 'partnership', 'partnerships', 'parts', 'party', 'passed', 'past', 'pastoral', 'paul', 'pay', 'payable', 'paying', 'payment', 'payments', 'payroll', 'pension', 'pensions', 'people', 'percentage', 'perform', 'performance', 'performancethe', 'performed', 'performing', 'period', 'periods', 'permanent', 'permitted', 'person', 'personal', 'personnel', 'persons', 'peter', 'physical', 'place', 'placed', 'places', 'plan', 'planned', 'planning', 'plans', 'plant', 'play', 'plc', 'pleased', 'plus', 'point', 'policies', 'policiesbasis', 'policiesthe', 'policy', 'policythe', 'poor', 'popular', 'portfolio', 'position', 'positive', 'possible', 'post', 'postage', 'potential', 'poverty', 'power', 'powers', 'practical', 'practice', 'practices', 'pre', 'premises', 'preparation', 'preparationthe', 'prepare', 'prepared', 'preparing', 'prepayments', 'prescribed', 'presence', 'present', 'presentation', 'presented', 'president', 'presume', 'prevent', 'prevention', 'previous', 'previously', 'price', 'prices', 'primarily', 'primary', 'principal', 'principally', 'principles', 'printing', 'prior', 'priorities', 'priority', 'private', 'probable', 'problems', 'procedures', 'proceeds', 'process', 'processes', 'produce', 'produced', 'production', 'professiona', 'professional', 'professionals', 'profile', 'profit', 'profits', 'programme', 'programmes', 'progress', 'project', 'projected', 'projects', 'promote', 'promoting', 'promotion', 'proper', 'properly', 'properties', 'property', 'properunderstanding', 'proportion', 'proposed', 'protect', 'protection', 'proud', 'provide', 'provided', 'provider', 'providers', 'provides', 'providing', 'provision', 'provisions', 'prudent', 'public', 'publicbenefit', 'publicity', 'published', 'pupils', 'purchase', 'purchased', 'purchases', 'purpose', 'purposes', 'qualified', 'quality', 'quantified', 'quarterly', 'queen', 'question', 'race', 'raise', 'raised', 'raising', 'ran', 'range', 'rate', 'rates', 'rd', 'reach', 'reached', 'reaching', 'read', 'readily', 'real', 'realisable', 'realised', 'reason', 'reasonable', 'reasonableness', 'reasonably', 'reasons', 'receipt', 'receipts', 'receivable', 'receive', 'received', 'receives', 'receiving', 'recent', 'recently', 'recognise', 'recognised', 'recognises', 'recognition', 'recommendations', 'recommended', 'reconciliation', 'record', 'recorded', 'records', 'recoverable', 'recovered', 'recovery', 'recruit', 'recruited', 'recruitment', 'reduce', 'reduced', 'reducing', 'reduction', 'reference', 'referred', 'reflect', 'reflected', 'reflecting', 'reflects', 'refurbishment', 'regard', 'regarding', 'regime', 'region', 'regional', 'register', 'registered', 'registration', 'regular', 'regularly', 'regulation', 'regulations', 'reimbursed', 'reimbursement', 'relate', 'related', 'relates', 'relating', 'relation', 'relationship', 'relationships', 'released', 'relevant', 'reliably', 'relief', 'relieve', 'religion', 'religious', 'remain', 'remained', 'remaining', 'remains', 'remuneration', 'rent', 'rental', 'rentals', 'rents', 'repair', 'repairs', 'repayable', 'repayment', 'repayments', 'replacement', 'report', 'reported', 'reportfor', 'reporting', 'reportingstandard', 'reportmy', 'reports', 'reportstatement', 'reportthe', 'reportto', 'represent', 'representatives', 'represented', 'representing', 'represents', 'republic', 'reputation', 'require', 'required', 'requirement', 'requirements', 'requires', 'resale', 'research', 'reserve', 'reserves', 'residential', 'residents', 'residual', 'resigned', 'resolution', 'resource', 'resources', 'resourcesall', 'resourcesincoming', 'respect', 'respective', 'respectively', 'respond', 'response', 'responsibilities', 'responsibilitiesthe', 'responsibility', 'responsible', 'rest', 'restricted', 'restrictions', 'result', 'resulted', 'resulting', 'results', 'retain', 'retained', 'retire', 'retired', 'retirement', 'return', 'returns', 'revaluation', 'revalued', 'revenue', 'review', 'reviewed', 'reviewing', 'reviews', 'reviewthe', 'revised', 'richard', 'right', 'rights', 'rise', 'risk', 'risks', 'road', 'robust', 'role', 'roles', 'room', 'rose', 'royal', 'rules', 'run', 'running', 'runs', 'safe', 'safeguarding', 'safety', 'said', 'salaries', 'salary', 'sale', 'sales', 'satisfactory', 'satisfied', 'savings', 'saw', 'say', 'scale', 'schedule', 'scheme', 'schemes', 'school', 'schools', 'scope', 'scotland', 'second', 'secondary', 'secretary', 'section', 'sections', 'sector', 'secure', 'secured', 'security', 'seek', 'seeking', 'seeks', 'seen', 'select', 'selected', 'selection', 'self', 'sell', 'senior', 'sense', 'sent', 'separate', 'separately', 'september', 'series', 'serve', 'served', 'service', 'services', 'serving', 'session', 'sessions', 'set', 'sets', 'setting', 'settle', 'settlement', 'seven', 'shall', 'share', 'shared', 'shares', 'sharing', 'sheet', 'sheetas', 'sheetat', 'sheetnotes', 'sheets', 'shop', 'short', 'shortfall', 'showed', 'shown', 'shows', 'signed', 'significant', 'significantly', 'similar', 'single', 'sir', 'site', 'size', 'skills', 'small', 'smaller', 'smith', 'social', 'society', 'sofa', 'software', 'sold', 'solely', 'soon', 'sorp', 'sought', 'sound', 'source', 'sources', 'south', 'space', 'special', 'specialist', 'specific', 'specifically', 'specified', 'spend', 'spending', 'spent', 'sponsorship', 'sports', 'spread', 'st', 'staff', 'staffing', 'stage', 'stand', 'standard', 'standards', 'standing', 'start', 'started', 'state', 'stated', 'statement', 'statementfor', 'statementin', 'statementof', 'statements', 'statementsfor', 'statementsin', 'statementspage', 'statementsthe', 'statementsyear', 'statementthe', 'stationery', 'status', 'statutory', 'steps', 'sterling', 'stock', 'stocks', 'straight', 'strategic', 'strategies', 'strategy', 'streams', 'street', 'strength', 'strong', 'structure', 'structurethe', 'student', 'students', 'studies', 'study', 'sub', 'subject', 'subscriptions', 'subsequent', 'subsequently', 'subsidiaries', 'subsidiary', 'substantial', 'substantially', 'success', 'successful', 'successfully', 'sufficient', 'suitable', 'sum', 'summarised', 'summary', 'summer', 'sunday', 'sundry', 'supply', 'support', 'supported', 'supporters', 'supporting', 'supports', 'surplus', 'surpluses', 'surrounding', 'sustainability', 'sustainable', 'systems', 'table', 'taken', 'takes', 'taking', 'tangible', 'target', 'targets', 'tax', 'taxation', 'taxationthe', 'taxes', 'teachers', 'teaching', 'team', 'teams', 'technical', 'technology', 'telephone', 'term', 'terms', 'th', 'thank', 'thanks', 'thatthe', 'theaccounting', 'theaccounts', 'theatre', 'thecharitable', 'thecharities', 'thecharity', 'thecompanies', 'thecompany', 'thefinancial', 'theincome', 'thepreparation', 'therequirements', 'thestatement', 'thetrustees', 'theyear', 'things', 'think', 'thomas', 'time', 'times', 'timing', 'tobe', 'today', 'toensure', 'took', 'tota', 'total', 'totalled', 'totalling', 'tothe', 'town', 'trade', 'trading', 'trained', 'training', 'transaction', 'transactions', 'transfer', 'transferred', 'transfers', 'transition', 'transport', 'travel', 'treasurer', 'treated', 'treatment', 'trips', 'true', 'trueand', 'trust', 'trustee', 'trustees', 'trusteesfor', 'trusteesthe', 'trusts', 'try', 'turn', 'turnover', 'twice', 'type', 'uk', 'ultimate', 'unable', 'unaware', 'uncertainties', 'uncertainty', 'underlying', 'undersection', 'understand', 'understanding', 'undertake', 'undertaken', 'undertakes', 'undertaking', 'undertakings', 'unique', 'unit', 'united', 'unitedkingdom', 'units', 'university', 'unless', 'unrealised', 'unrestricted', 'unusual', 'update', 'updated', 'use', 'used', 'useful', 'users', 'uses', 'using', 'usually', 'utilised', 'valuable', 'valuation', 'valuations', 'value', 'valueat', 'valued', 'values', 'variety', 'various', 'vat', 'vehicles', 'venue', 'vice', 'view', 'village', 'vision', 'visit', 'visited', 'visiting', 'visitors', 'visits', 'vital', 'voluntary', 'volunteer', 'volunteering', 'volunteers', 'vulnerable', 'wages', 'wales', 'want', 'water', 'way', 'ways', 'website', 'week', 'weekly', 'weeks', 'wehave', 'welcome', 'welcomed', 'welfare', 'wellbeing', 'went', 'west', 'westminster', 'whilst', 'wholly', 'wide', 'wider', 'wil', 'winding', 'wish', 'wishes', 'withapplicable', 'withthe', 'women', 'won', 'work', 'worked', 'workers', 'working', 'works', 'workshops', 'world', 'wound', 'write', 'writing', 'written', 'www', 'year', 'yearended', 'years', 'yearthe', 'young', 'youth']\n",
      "(1727, 2070)\n"
     ]
    }
   ],
   "source": [
    "vectorizer = TfidfVectorizer( stop_words='english', min_df = 0.1) \n",
    "texte = data[\"textract\"].dropna().replace(r\"\\\\n\", '', regex=True).str.replace('\\d+', '') \n",
    "X = vectorizer.fit_transform(texte) \n",
    "print(vectorizer.get_feature_names()) \n",
    "print(X.shape)"
   ]
  },
  {
   "cell_type": "code",
   "execution_count": 8,
   "id": "67b10022",
   "metadata": {},
   "outputs": [
    {
     "ename": "ValueError",
     "evalue": "np.nan is an invalid document, expected byte or unicode string.",
     "output_type": "error",
     "traceback": [
      "\u001b[0;31m---------------------------------------------------------------------------\u001b[0m",
      "\u001b[0;31mValueError\u001b[0m                                Traceback (most recent call last)",
      "\u001b[0;32m<ipython-input-8-3377082ec013>\u001b[0m in \u001b[0;36m<module>\u001b[0;34m\u001b[0m\n\u001b[1;32m      1\u001b[0m \u001b[0mvectorizer\u001b[0m \u001b[0;34m=\u001b[0m \u001b[0mTfidfVectorizer\u001b[0m\u001b[0;34m(\u001b[0m\u001b[0mstop_words\u001b[0m\u001b[0;34m=\u001b[0m\u001b[0;34m\"english\"\u001b[0m\u001b[0;34m)\u001b[0m\u001b[0;34m\u001b[0m\u001b[0;34m\u001b[0m\u001b[0m\n\u001b[0;32m----> 2\u001b[0;31m \u001b[0mX\u001b[0m \u001b[0;34m=\u001b[0m \u001b[0mvectorizer\u001b[0m\u001b[0;34m.\u001b[0m\u001b[0mfit_transform\u001b[0m\u001b[0;34m(\u001b[0m\u001b[0mtesseract\u001b[0m\u001b[0;34m)\u001b[0m\u001b[0;34m\u001b[0m\u001b[0;34m\u001b[0m\u001b[0m\n\u001b[0m",
      "\u001b[0;32m~/anaconda3/lib/python3.8/site-packages/sklearn/feature_extraction/text.py\u001b[0m in \u001b[0;36mfit_transform\u001b[0;34m(self, raw_documents, y)\u001b[0m\n\u001b[1;32m   1848\u001b[0m         \"\"\"\n\u001b[1;32m   1849\u001b[0m         \u001b[0mself\u001b[0m\u001b[0;34m.\u001b[0m\u001b[0m_check_params\u001b[0m\u001b[0;34m(\u001b[0m\u001b[0;34m)\u001b[0m\u001b[0;34m\u001b[0m\u001b[0;34m\u001b[0m\u001b[0m\n\u001b[0;32m-> 1850\u001b[0;31m         \u001b[0mX\u001b[0m \u001b[0;34m=\u001b[0m \u001b[0msuper\u001b[0m\u001b[0;34m(\u001b[0m\u001b[0;34m)\u001b[0m\u001b[0;34m.\u001b[0m\u001b[0mfit_transform\u001b[0m\u001b[0;34m(\u001b[0m\u001b[0mraw_documents\u001b[0m\u001b[0;34m)\u001b[0m\u001b[0;34m\u001b[0m\u001b[0;34m\u001b[0m\u001b[0m\n\u001b[0m\u001b[1;32m   1851\u001b[0m         \u001b[0mself\u001b[0m\u001b[0;34m.\u001b[0m\u001b[0m_tfidf\u001b[0m\u001b[0;34m.\u001b[0m\u001b[0mfit\u001b[0m\u001b[0;34m(\u001b[0m\u001b[0mX\u001b[0m\u001b[0;34m)\u001b[0m\u001b[0;34m\u001b[0m\u001b[0;34m\u001b[0m\u001b[0m\n\u001b[1;32m   1852\u001b[0m         \u001b[0;31m# X is already a transformed view of raw_documents so\u001b[0m\u001b[0;34m\u001b[0m\u001b[0;34m\u001b[0m\u001b[0;34m\u001b[0m\u001b[0m\n",
      "\u001b[0;32m~/anaconda3/lib/python3.8/site-packages/sklearn/feature_extraction/text.py\u001b[0m in \u001b[0;36mfit_transform\u001b[0;34m(self, raw_documents, y)\u001b[0m\n\u001b[1;32m   1201\u001b[0m         \u001b[0mmax_features\u001b[0m \u001b[0;34m=\u001b[0m \u001b[0mself\u001b[0m\u001b[0;34m.\u001b[0m\u001b[0mmax_features\u001b[0m\u001b[0;34m\u001b[0m\u001b[0;34m\u001b[0m\u001b[0m\n\u001b[1;32m   1202\u001b[0m \u001b[0;34m\u001b[0m\u001b[0m\n\u001b[0;32m-> 1203\u001b[0;31m         vocabulary, X = self._count_vocab(raw_documents,\n\u001b[0m\u001b[1;32m   1204\u001b[0m                                           self.fixed_vocabulary_)\n\u001b[1;32m   1205\u001b[0m \u001b[0;34m\u001b[0m\u001b[0m\n",
      "\u001b[0;32m~/anaconda3/lib/python3.8/site-packages/sklearn/feature_extraction/text.py\u001b[0m in \u001b[0;36m_count_vocab\u001b[0;34m(self, raw_documents, fixed_vocab)\u001b[0m\n\u001b[1;32m   1113\u001b[0m         \u001b[0;32mfor\u001b[0m \u001b[0mdoc\u001b[0m \u001b[0;32min\u001b[0m \u001b[0mraw_documents\u001b[0m\u001b[0;34m:\u001b[0m\u001b[0;34m\u001b[0m\u001b[0;34m\u001b[0m\u001b[0m\n\u001b[1;32m   1114\u001b[0m             \u001b[0mfeature_counter\u001b[0m \u001b[0;34m=\u001b[0m \u001b[0;34m{\u001b[0m\u001b[0;34m}\u001b[0m\u001b[0;34m\u001b[0m\u001b[0;34m\u001b[0m\u001b[0m\n\u001b[0;32m-> 1115\u001b[0;31m             \u001b[0;32mfor\u001b[0m \u001b[0mfeature\u001b[0m \u001b[0;32min\u001b[0m \u001b[0manalyze\u001b[0m\u001b[0;34m(\u001b[0m\u001b[0mdoc\u001b[0m\u001b[0;34m)\u001b[0m\u001b[0;34m:\u001b[0m\u001b[0;34m\u001b[0m\u001b[0;34m\u001b[0m\u001b[0m\n\u001b[0m\u001b[1;32m   1116\u001b[0m                 \u001b[0;32mtry\u001b[0m\u001b[0;34m:\u001b[0m\u001b[0;34m\u001b[0m\u001b[0;34m\u001b[0m\u001b[0m\n\u001b[1;32m   1117\u001b[0m                     \u001b[0mfeature_idx\u001b[0m \u001b[0;34m=\u001b[0m \u001b[0mvocabulary\u001b[0m\u001b[0;34m[\u001b[0m\u001b[0mfeature\u001b[0m\u001b[0;34m]\u001b[0m\u001b[0;34m\u001b[0m\u001b[0;34m\u001b[0m\u001b[0m\n",
      "\u001b[0;32m~/anaconda3/lib/python3.8/site-packages/sklearn/feature_extraction/text.py\u001b[0m in \u001b[0;36m_analyze\u001b[0;34m(doc, analyzer, tokenizer, ngrams, preprocessor, decoder, stop_words)\u001b[0m\n\u001b[1;32m     97\u001b[0m \u001b[0;34m\u001b[0m\u001b[0m\n\u001b[1;32m     98\u001b[0m     \u001b[0;32mif\u001b[0m \u001b[0mdecoder\u001b[0m \u001b[0;32mis\u001b[0m \u001b[0;32mnot\u001b[0m \u001b[0;32mNone\u001b[0m\u001b[0;34m:\u001b[0m\u001b[0;34m\u001b[0m\u001b[0;34m\u001b[0m\u001b[0m\n\u001b[0;32m---> 99\u001b[0;31m         \u001b[0mdoc\u001b[0m \u001b[0;34m=\u001b[0m \u001b[0mdecoder\u001b[0m\u001b[0;34m(\u001b[0m\u001b[0mdoc\u001b[0m\u001b[0;34m)\u001b[0m\u001b[0;34m\u001b[0m\u001b[0;34m\u001b[0m\u001b[0m\n\u001b[0m\u001b[1;32m    100\u001b[0m     \u001b[0;32mif\u001b[0m \u001b[0manalyzer\u001b[0m \u001b[0;32mis\u001b[0m \u001b[0;32mnot\u001b[0m \u001b[0;32mNone\u001b[0m\u001b[0;34m:\u001b[0m\u001b[0;34m\u001b[0m\u001b[0;34m\u001b[0m\u001b[0m\n\u001b[1;32m    101\u001b[0m         \u001b[0mdoc\u001b[0m \u001b[0;34m=\u001b[0m \u001b[0manalyzer\u001b[0m\u001b[0;34m(\u001b[0m\u001b[0mdoc\u001b[0m\u001b[0;34m)\u001b[0m\u001b[0;34m\u001b[0m\u001b[0;34m\u001b[0m\u001b[0m\n",
      "\u001b[0;32m~/anaconda3/lib/python3.8/site-packages/sklearn/feature_extraction/text.py\u001b[0m in \u001b[0;36mdecode\u001b[0;34m(self, doc)\u001b[0m\n\u001b[1;32m    215\u001b[0m \u001b[0;34m\u001b[0m\u001b[0m\n\u001b[1;32m    216\u001b[0m         \u001b[0;32mif\u001b[0m \u001b[0mdoc\u001b[0m \u001b[0;32mis\u001b[0m \u001b[0mnp\u001b[0m\u001b[0;34m.\u001b[0m\u001b[0mnan\u001b[0m\u001b[0;34m:\u001b[0m\u001b[0;34m\u001b[0m\u001b[0;34m\u001b[0m\u001b[0m\n\u001b[0;32m--> 217\u001b[0;31m             raise ValueError(\"np.nan is an invalid document, expected byte or \"\n\u001b[0m\u001b[1;32m    218\u001b[0m                              \"unicode string.\")\n\u001b[1;32m    219\u001b[0m \u001b[0;34m\u001b[0m\u001b[0m\n",
      "\u001b[0;31mValueError\u001b[0m: np.nan is an invalid document, expected byte or unicode string."
     ]
    }
   ],
   "source": [
    "vectorizer = TfidfVectorizer(stop_words=\"english\")\n",
    "X = vectorizer.fit_transform(tesseract)"
   ]
  },
  {
   "cell_type": "code",
   "execution_count": 84,
   "id": "335823fa",
   "metadata": {},
   "outputs": [
    {
     "name": "stdout",
     "output_type": "stream",
     "text": [
      "  (0, 2)\t1.0\n",
      "  (1, 3)\t1.0\n",
      "  (2, 0)\t0.7732623667832087\n",
      "  (2, 4)\t0.6340862024337309\n",
      "  (3, 5)\t1.0\n",
      "  (4, 6)\t1.0\n",
      "  (5, 1)\t0.7732623667832087\n",
      "  (5, 4)\t0.6340862024337309\n"
     ]
    }
   ],
   "source": [
    "print(X)"
   ]
  },
  {
   "cell_type": "code",
   "execution_count": 85,
   "id": "0dc94d60",
   "metadata": {},
   "outputs": [],
   "source": [
    "true_k = 2"
   ]
  },
  {
   "cell_type": "code",
   "execution_count": 86,
   "id": "615cb78b",
   "metadata": {},
   "outputs": [],
   "source": [
    "kmeans = KMeans(n_clusters=true_k, init=\"k-means++\", max_iter=100, n_init=1)\n"
   ]
  },
  {
   "cell_type": "code",
   "execution_count": 87,
   "id": "e9fdffdb",
   "metadata": {},
   "outputs": [
    {
     "data": {
      "text/plain": [
       "KMeans(max_iter=100, n_clusters=2, n_init=1)"
      ]
     },
     "execution_count": 87,
     "metadata": {},
     "output_type": "execute_result"
    }
   ],
   "source": [
    "kmeans.fit(X)"
   ]
  },
  {
   "cell_type": "code",
   "execution_count": 88,
   "id": "7869ae27",
   "metadata": {},
   "outputs": [
    {
     "name": "stdout",
     "output_type": "stream",
     "text": [
      "3.8391738751532682\n"
     ]
    }
   ],
   "source": [
    "print(kmeans.inertia_)"
   ]
  },
  {
   "cell_type": "code",
   "execution_count": 72,
   "id": "0881ff7c",
   "metadata": {},
   "outputs": [
    {
     "name": "stdout",
     "output_type": "stream",
     "text": [
      "4.86597822929439\n",
      "3.5979346878831695\n",
      "2.5979346878831695\n",
      "1.5979346878831695\n",
      "0.5979346878831695\n",
      "0.0\n"
     ]
    }
   ],
   "source": [
    "for k in range(1,7):\n",
    "    kmeans = KMeans(n_clusters=k, init=\"k-means++\", max_iter=100, n_init=1)\n",
    "    kmeans.fit(X)\n",
    "    print(kmeans.inertia_)\n",
    "    \n"
   ]
  },
  {
   "cell_type": "code",
   "execution_count": 91,
   "id": "f06d266d",
   "metadata": {},
   "outputs": [],
   "source": [
    "order_centroids = kmeans.cluster_centers_.argsort()[:, ::-1]\n",
    "terms = vectorizer.get_feature_names()\n"
   ]
  },
  {
   "cell_type": "code",
   "execution_count": 92,
   "id": "f4e11aa2",
   "metadata": {},
   "outputs": [
    {
     "name": "stdout",
     "output_type": "stream",
     "text": [
      "[[4 5 3 2 1 0 6]\n",
      " [6 5 4 3 2 1 0]]\n"
     ]
    }
   ],
   "source": [
    "print(order_centroids)"
   ]
  },
  {
   "cell_type": "code",
   "execution_count": 93,
   "id": "182f44dd",
   "metadata": {},
   "outputs": [
    {
     "name": "stdout",
     "output_type": "stream",
     "text": [
      "['djvu2hocr', 'djvu2hocr_tesseract', 'file_name', 'list_keys', 'pdf2djvu', 'tesseract', 'textract']\n"
     ]
    }
   ],
   "source": [
    "print(terms)"
   ]
  },
  {
   "cell_type": "code",
   "execution_count": 94,
   "id": "b3be0b61",
   "metadata": {},
   "outputs": [
    {
     "ename": "SyntaxError",
     "evalue": "invalid character in identifier (<ipython-input-94-f6aa6d074c70>, line 2)",
     "output_type": "error",
     "traceback": [
      "\u001b[0;36m  File \u001b[0;32m\"<ipython-input-94-f6aa6d074c70>\"\u001b[0;36m, line \u001b[0;32m2\u001b[0m\n\u001b[0;31m    print(“Cluster %d:” % i),\u001b[0m\n\u001b[0m                 ^\u001b[0m\n\u001b[0;31mSyntaxError\u001b[0m\u001b[0;31m:\u001b[0m invalid character in identifier\n"
     ]
    }
   ],
   "source": [
    "for i in range(true_k):\n",
    "    print(“Cluster %d:” % i),\n",
    "    for ind in order_centroids[i, :10]:\n",
    "    print(‘ %s’ % terms[ind])"
   ]
  },
  {
   "cell_type": "code",
   "execution_count": null,
   "id": "f1ab4204",
   "metadata": {},
   "outputs": [],
   "source": []
  }
 ],
 "metadata": {
  "kernelspec": {
   "display_name": "Python 3",
   "language": "python",
   "name": "python3"
  },
  "language_info": {
   "codemirror_mode": {
    "name": "ipython",
    "version": 3
   },
   "file_extension": ".py",
   "mimetype": "text/x-python",
   "name": "python",
   "nbconvert_exporter": "python",
   "pygments_lexer": "ipython3",
   "version": "3.8.8"
  }
 },
 "nbformat": 4,
 "nbformat_minor": 5
}
