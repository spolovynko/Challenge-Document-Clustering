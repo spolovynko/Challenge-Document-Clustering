{
 "cells": [
  {
   "cell_type": "code",
   "execution_count": 2,
   "id": "ffc4d0cd",
   "metadata": {},
   "outputs": [],
   "source": [
    "#PDF to text translator\n",
    "from PyPDF2 import PdfFileReader, PdfFileWriter\n",
    "import textract\n",
    "\n",
    "#Natural language toolkit\n",
    "from nltk.tokenize import word_tokenize\n",
    "from nltk.corpus import stopwords\n",
    "\n",
    "#python module\n",
    "from collections import Counter\n",
    "import os\n",
    "\n",
    "#data\n",
    "import pandas as pd\n",
    "\n",
    "#warning\n",
    "import warnings\n",
    "warnings.filterwarnings(\"ignore\")"
   ]
  },
  {
   "cell_type": "markdown",
   "id": "231ad671",
   "metadata": {},
   "source": [
    "# Test Path\n"
   ]
  },
  {
   "cell_type": "code",
   "execution_count": 3,
   "id": "427f3dea",
   "metadata": {},
   "outputs": [],
   "source": [
    "path = \"/home/sergei/Public/BeCode/Projects/kleister-charity/documents/5fa0bf54c189308cc7b9dfc7665f0068.pdf\""
   ]
  },
  {
   "cell_type": "markdown",
   "id": "600b0201",
   "metadata": {},
   "source": [
    "# PyPDF2"
   ]
  },
  {
   "cell_type": "code",
   "execution_count": null,
   "id": "1b71b415",
   "metadata": {},
   "outputs": [],
   "source": [
    "def pdf_to_text(pdf_file):\n",
    "    full_text = \"\"\n",
    "    pdf = PdfFileReader(pdf_file)\n",
    "    for page_num in range(pdf.numPages):\n",
    "        page_obj = pdf.getPage(page_num)\n",
    "        text = page_obj.extractText()\n",
    "        if text != \"\":\n",
    "            text = text\n",
    "        else:\n",
    "            text = textract.process(pdf_file,language=\"eng\")\n",
    "        full_text += text\n",
    "    #print(full_text)    \n",
    "    return full_text\n",
    "\n",
    "pdf_to_text(path)"
   ]
  },
  {
   "cell_type": "markdown",
   "id": "bf831373",
   "metadata": {},
   "source": [
    "# Textract"
   ]
  },
  {
   "cell_type": "code",
   "execution_count": 17,
   "id": "1e8588af",
   "metadata": {},
   "outputs": [],
   "source": [
    "def pdf_to_text_2(path):\n",
    "    try:\n",
    "        text = textract.process(path)\n",
    "    except:\n",
    "        text = \"\"\n",
    "    return text"
   ]
  },
  {
   "cell_type": "code",
   "execution_count": 19,
   "id": "5f3e012d",
   "metadata": {},
   "outputs": [
    {
     "data": {
      "text/plain": [
       "b'REGISTERED COMPANY NUMBER: 05235483 (England and Wales)\\nREGISTERED CHARITY NUMBER: 1106865\\n\\nReport of the Trustees and\\nUnaudited Financial Statements for the Year Ended 31 March 2016\\nfor\\nBlackwell Sailing\\n\\nCumbria CVS\\n6 Hobson Court\\nGillan Way\\nPenrith\\nCumbria\\nCA11 9GQ\\n\\n\\x0cBlackwell Sailing\\nContents of the Financial Statements\\nfor the Year Ended 31 March 2016\\n\\nPage\\nReport of the Trustees\\n\\n1 to 5\\n\\nIndependent Examiner\\'s Report\\n\\n6\\n\\nStatement of Financial Activities\\n\\n7\\n\\nBalance Sheet\\nNotes to the Financial Statements\\n\\n8 to 9\\n10 to 14\\n\\n\\x0cBlackwell Sailing\\nReport of the Trustees\\nfor the Year Ended 31 March 2016\\nThe trustees who are also directors of the charity for the purposes of the Companies Act 2006, present their report with\\nthe financial statements of the charity for the year ended 31 March 2016. The trustees have adopted the provisions of\\nthe Statement of Recommended Practice (SORP) \\'Accounting and Reporting by Charities\\' issued in March 2005.\\nREFERENCE AND ADMINISTRATIVE DETAILS\\nRegistered Company number\\n05235483 (England and Wales)\\nRegistered Charity number\\n1106865\\nRegistered office\\nCockshott Wood\\nGlebe Road\\nBowness on Windermere\\nCumbria\\nLA23 3HE\\nTrustees\\nG A Pardoe\\nL M Gooch\\nB J Crompton\\nJ Manning\\nRev W E R Wilkinson\\nS A Riley\\nM W Leaver\\nC P Gibson\\n\\nChair\\nTreasurer\\n\\n- resigned 1.4.15\\n\\n- appointed 1.4.15\\n\\nCompany Secretary\\nD C Hall\\nIndependent examiner\\nCumbria CVS\\n6 Hobson Court\\nGillan Way\\nPenrith\\nCumbria\\nCA11 9GQ\\nSTRUCTURE, GOVERNANCE AND MANAGEMENT\\nGoverning document\\nThe charity is controlled by its governing document, a deed of trust, and constitutes a limited company, limited by\\nguarantee, as defined by the Companies Act 2006.\\nThe governing document for the charity is the Memorandum and Articles of Association. The charity is a company\\nlimited by guarantee and not having a share capital, as defined by the Companies Act 2006. Trustees are elected by the\\nboard and the members at the AGM. All trustees have an existing or future interest in the aims and activities of the\\ncharity. New trustees receive an induction pack and all trustees review the activities of the charity. The trustees meet\\n3-4 times a year and decisions are made at those meetings. The trustees regularly review the risks to which the charity is\\nexposed and procedures are in force to manage those risks.\\nRisk management\\nThe trustees have a duty to identify and review the risks to which the charity is exposed and to ensure appropriate\\ncontrols are in place to provide reasonable assurance against fraud and error.\\n\\nPage 1\\n\\n\\x0cBlackwell Sailing\\nReport of the Trustees\\nfor the Year Ended 31 March 2016\\nOBJECTIVES AND ACTIVITIES\\nObjectives and aims\\nThe objects of Blackwell Sailing as set out in the Governing Document are:\\n\" to provide sailing and other outdoor activities for people with disabilities\\n\" to provide appropriate support and facilities for this\\n\" to promote participation on equal terms by encouraging independence\\n\" to carry out other charitable purposes to improve the condition of life of such persons as the trustees may determine\\nTo this end the charity raises funds, organises and facilitates evening and daytime sailing sessions on Windermere\\n(April-October) with volunteer support and under the supervision of a qualified RYA Senior Sailing Instructor. The\\ncharity also provides opportunities for sailing members to pursue other outdoor activities such as canoeing, camping\\nand walking (through the winter months). All activities are supported by volunteers. Approximately 35 volunteers are\\ninvolved in various roles, including the abovementioned, boat maintenance and fundraising. Their contribution is\\nessential to the running of the charity.\\n\\nPage 2\\n\\n\\x0cBlackwell Sailing\\nReport of the Trustees\\nfor the Year Ended 31 March 2016\\nACHIEVEMENT AND PERFORMANCE\\nCharitable activities\\nThe Charity continues to employ Manager and Principal Instructor, David Hall, who works full time for the charity and\\nalso acts as Company Secretary. We now have a team of 5 Senior RYA Sailing Instructors involved, 3 RYA Instructors\\nand 19 RYA Assistant Instructors in a team of 45 volunteers. Following further powerboat training 28 of our volunteers\\nhave now achieved their RYA Safety Boat certificate. One of our senior instructors is also an RYA Powerboat\\nInstructor so we can do this training at our own sailing base.\\nMaintenance work continued on the boats over the winter months thanks to the practical skills of our volunteer\\nmaintenance team which includes one of our sailing members, Colin Jackson (who has learning disabilities) and attends\\nevery week throughout the winter . We have been given support from Lakeland Disability Support for some new sailing\\nkit and another donation, received from Windermere Rotary has covered the cost of some new jib sails and a new winch\\nfor lifting people in and out of boats. A generous donation was received from Mark Hancock to cover the 2016\\ntransport costs for our group of sailors with visual impairments. We have covered the cost of having professional\\nrepairs done to the safety boat from our unrestricted funds.\\nThe winter walking group continued with regular weekly walks led by volunteers from November to March. The group\\nhave been constant throughout the winter months, have gained or maintained a good level of fitness and were again\\nawarded with certificates at the end of the season with their total miles walked. A total of 12 people benefitted.\\nThe total number of beneficiaries last season was 189. Of those, 74 attended regularly and 65 were under 18 years old.\\nWe ran a total of 102 sailing sessions. We welcomed the local groups as usual which included some newcomers from\\nBeaumont College, Carlisle and some individuals who came for taster sessions or attended regularly on Tuesday\\nevenings. On several occasions we loaned our boats to local charity, Bendrigg Trust, for them to run sailing sessions\\nfrom the public jetties close by at Ferry Nab.\\nDuring the 2015 season we were able to organise participation in the RNLI Open Handicap race in July and entered 4\\nboats. Two of the boats finished within the first 10 of a fleet of about 40 boats. In September a group of 6 sailing\\nmembers with severe learning disabilities spent a week at the Calvert Trust Outdoor Centre in the North Lakes taking\\npart in a wide range of activities which included sailing, walking, cycling and exploring a disused copper mine. The\\nparticipants all contributed to costs but we provided volunteer support and some essential top-up funding.\\nOur cupboard of indoor educational resources now has a jigsaw, worksheets, a board game, picture dominoes, drawing\\nmaterials and a game of sailing bingo to make it possible for groups to be kept occupied and to learn relevant skills\\nduring extreme weather conditions. We have plans to make more games and work sheets in the future and also intend to\\nadd to our collection of video clips, which can be used for both entertainment and training purposes.\\nAs well as the sail training we were able to provide some RYA Powerboat and Safety Boat training and some on-shore\\ntraining, which included RYA 1st Aid and the RYAS Disability Awareness course. Also during the winter months, we\\nheld an Instructors Day to enable the Senior Instructors to spend a day highlighting issues and to plan for the future. It\\nwas decided to compile a new questionnaire for volunteers in order to gather information about what they were\\nprepared to do and where their training priorities lay. We have also negotiated for the RYA Safeguarding of Children\\nand Vulnerable Adults workshop to be held locally and then attended as part of the up-dating process for our own\\nSafeguarding Policy.\\nThe charity continued to fund sailing sessions run by freelance instructors: Mel Vause, John Brain, Tony Longworth\\nand Linnhe Harrison. They are all qualified RYA Senior Instructors and John is also an RYA Coach/Assessor and\\nInspector. Most of the funding for the manager\\'s salary, freelance instructor fees, training and other core costs was\\nprovided again by Northern Rock Foundation and Sir John Fisher Foundation. We received further funding for the\\ncharity\\'s core costs from Lloyds Bank Foundation and Frieda Scott Charitable Trust. Some funding for last sailing\\nseason was also given by Lakeland Disability Support, the Rothera Family Charity Trust and The Hadfield Trust. Our\\ninsurance and some other running costs have increased slightly but we receive much support from our landlords and\\nbenefactors, Harold and Janet Lefton who have continued to give us the use of this excellent site, fuel for the workshop\\nand also electricity. We receive small donations from our sailing members each time they come sailing and we now ask\\nfor \\xc2\\xa35 per head for each sailing session.\\n\\nPage 3\\n\\n\\x0cBlackwell Sailing\\nReport of the Trustees\\nfor the Year Ended 31 March 2016\\nACHIEVEMENT AND PERFORMANCE\\nCharitable activities\\nJoyce Manning, trustee and sailing member, who is blind, continues to assist in the office for a half day each week.\\nWhen Joyce is not available to come, we have encouraged another sailing member, Thor Briody, to come instead and\\nassist as part of the day service work experience initiative. During the winter months the volunteers and another sailing\\nmember who has a learning disability, Colin Jackson, worked to clean and maintain all the boats in our workshop for\\nthe new season.\\nThe charity maintains good working relationships with the main disability groups in the area: Cumbria Care, The\\nOaklea Trust, Sight Advice, Leonard Cheshire, Beaumont College and the abovementioned schools and day centres.\\nWe continue to receive much-valued support from Bendrigg Trust and RYA Sailability, who again awarded us Centre\\nof Excellence status for the coming season. We have benefited, as before, from the continuing support of parents, carers\\nand the friends of sailing members who are encouraged to attend our activities, open days and social events and to\\nbecome volunteers.\\nFINANCIAL REVIEW\\nReserves policy\\nWe aim to have between 9 and 12 months funding in reserve. If reserves fall below 6 months (approximately \\xc2\\xa337,000)\\nwe will call a meeting to formulate in a strategy to raise additional funds and make good the shortfall.\\nBlackwell Sailing had an income of \\xc2\\xa366,200 and expenses of \\xc2\\xa359,520\\nWith reserves brought forward from 2015/16 we now have a total of \\xc2\\xa346,682 to take forward for the 2016/17 financial\\nyear.\\nFUTURE DEVELOPMENTS\\nAs we approach the new financial year we are very grateful to Sir John Fisher Foundation for giving us a larger grant\\nthan previously given and also to Frieda Scott Charitable Trust for awarding us a 3 year grant. We are waiting to hear\\nfrom two other trusts regarding grant applications and hope that we can receive support at a similar or higher level than\\nthat received from Northern Rock Foundation. We will continue to tap into the support we can find locally and raise\\nsome funding ourselves through local groups and sponsored events. We will keep our website up to date and encourage\\nmore support for the charity through the local media and by encouraging on-line donations through Virgin Money\\nGiving, with Gift Aid being added automatically.\\nWe intend to continue our activities as before - including a residential activity week at Plas Menai Sailing and Activity\\nCentre in September, a sailing/camping weekend for the group with visual impairments and a Flotilla Day in August.\\nVolunteer training will continue and include the Disability Awareness Training, 1st Aid as well as further sailing and\\npowerboat training. We are also planning to offer, during the 2016 season, the opportunity of an \"away day\" for\\nvolunteer training on Ullswater with Glenridding Sailing Centre.\\nWe will continue to encourage our sailing members to extend their outdoor experiences, to include other activities (e.g.\\ntall ship sailing) and to progress, where appropriate, to sail different boats at different locations. When funding allows\\nwe will also offer canoeing sessions in order to provide a variety of experiences here on Windermere. We will continue\\nto focus on the quality of our teaching and the development of educational resources (for use both on and off the water).\\nWork has already started on the writing of our own training manual, which will be a useful reference for both\\nvolunteers and visitors who come to sail our traditional lug-rigged boats.\\nThe charity will continue to operate on a non-commercial basis working with volunteers and maintaining partnerships\\nwith other local groups. The charity will be needs-led and client-centred in its approach and make improvements and\\nspecial adaptations to boats and equipment when necessary. At the start of the 2016 season we have had enquiries from\\ntwo new groups who have booked for \"taster\" sessions with a view to booking regular sessions after that if the sailing is\\npopular.\\nAfter a year of waiting (for its development) we will now receive a new sailing boat for the 2016 season. Funded by\\nSteve Hague and the Will Clark Fund, the boat will be suitable for Will Clark, Steve Hague and others to sail. It will\\nhave both electric/manual controls and have the capacity to take up to 4 people.\\n\\nPage 4\\n\\n\\x0cBlackwell Sailing\\nReport of the Trustees\\nfor the Year Ended 31 March 2016\\nApproved by order of the board of trustees on ............................................. and signed on its behalf by:\\n\\n.............................................\\nG A Pardoe - Trustee\\n\\nPage 5\\n\\n\\x0cIndependent Examiner\\'s Report to the Trustees of\\nBlackwell Sailing\\nI report on the accounts for the year ended 31 March 2016 set out on pages seven to fourteen.\\nRespective responsibilities of trustees and examiner\\nThe charity\\'s trustees (who are also the directors for the purposes of company law) are responsible for the preparation of\\nthe accounts. The charity\\'s trustees consider that an audit is not required for this year (under Section 144(2) of the\\nCharities Act 2011 (the 2011 Act)) and that an independent examination is required.\\nHaving satisfied myself that the charity is not subject to audit under company law and is eligible for independent\\nexamination, it is my responsibility to:\\n-\\n\\nexamine the accounts under Section 145 of the 2011 Act\\nto follow the procedures laid down in the General Directions given by the Charity Commission (under Section\\n145(5)(b) of the 2011 Act); and\\nto state whether particular matters have come to my attention.\\n\\n-\\n\\nBasis of the independent examiner\\'s report\\nMy examination was carried out in accordance with the General Directions given by the Charity Commission. An\\nexamination includes a review of the accounting records kept by the charity and a comparison of the accounts presented\\nwith those records. It also includes consideration of any unusual items or disclosures in the accounts, and seeking\\nexplanations from you as trustees concerning any such matters. The procedures undertaken do not provide all the\\nevidence that would be required in an audit, and consequently no opinion is given as to whether the accounts present a\\n\\'true and fair view \\' and the report is limited to those matters set out in the statements below.\\nIndependent examiner\\'s statement\\nIn connection with my examination, no matter has come to my attention:\\n(1)\\n\\nwhich gives me reasonable cause to believe that, in any material respect, the requirements\\n-\\n\\nto keep accounting records in accordance with Section 386 and 387 of the Companies Act 2006; and\\nto prepare accounts which accord with the accounting records, comply with the accounting requirements\\nof Sections 394 and 395 of the Companies Act 2006 and with the methods and principles of the\\nStatement of Recommended Practice: Accounting and Reporting by Charities\\n\\nhave not been met; or\\n(2)\\n\\nto which, in my opinion, attention should be drawn in order to enable a proper understanding of the accounts\\nto be reached.\\n\\nAlan Stubbs FCMA\\nChartered Management Accountant\\nCumbria CVS\\n6 Hobson Court\\nGillan Way\\nPenrith\\nCumbria\\nCA11 9GQ\\n\\nDate: .............................................\\n\\nPage 6\\n\\n\\x0cBlackwell Sailing\\nStatement of Financial Activities\\nfor the Year Ended 31 March 2016\\n\\nNot\\nes\\nINCOMING RESOURCES\\nIncoming resources from generated funds\\nVoluntary income\\nActivities for generating funds\\nInvestment income\\n\\n31.3.16\\nTotal funds\\n\\n31.3.15\\nTotal funds\\n\\nUnrestricted\\nfund\\n\\xc2\\xa3\\n\\nRestricted\\nfunds\\n\\xc2\\xa3\\n\\n6,767\\n326\\n-\\n\\n59,079\\n-\\n\\n65,846\\n326\\n-\\n\\n43,796\\n3,376\\n60\\n\\n7,093\\n\\n59,079\\n\\n66,172\\n\\n47,232\\n\\n-\\n\\n-\\n\\n-\\n\\n2,255\\n\\n2\\n3\\n4\\n\\nTotal incoming resources\\n\\n\\xc2\\xa3\\n\\n\\xc2\\xa3\\n\\nRESOURCES EXPENDED\\nCosts of generating funds\\nCosts of generating voluntary income\\nFundraising trading: cost of goods sold and other\\ncosts\\n5\\nCharitable activities\\nRunning Costs\\n6\\nGovernance costs\\n\\n-\\n\\n-\\n\\n-\\n\\n1,987\\n\\n9,593\\n30\\n\\n58,929\\n600\\n\\n68,522\\n630\\n\\n69,098\\n600\\n\\nTotal resources expended\\n\\n9,623\\n\\n59,529\\n\\n69,152\\n\\n73,940\\n\\n(2,980)\\n\\n(26,708)\\n\\nNET INCOMING/(OUTGOING)\\nRESOURCES\\n\\n(2,530)\\n\\n(450)\\n\\nRECONCILIATION OF FUNDS\\nTotal funds brought forward\\n\\n107,724\\n\\n22,793\\n\\n130,517\\n\\n157,225\\n\\nTOTAL FUNDS CARRIED FORWARD\\n\\n105,194\\n\\n22,343\\n\\n127,537\\n\\n130,517\\n\\nThe notes form part of these financial statements\\nPage 7\\n\\n\\x0cBlackwell Sailing\\nBalance Sheet\\nAt 31 March 2016\\n\\nCURRENT ASSETS\\nDebtors\\nCash at bank and in hand\\n\\nCREDITORS\\nAmounts falling due within one year\\n\\n31.3.15\\nTotal funds\\n\\nRestricted\\nfunds\\n\\xc2\\xa3\\n\\n10\\n\\n76,223\\n\\n3,553\\n\\n79,776\\n\\n90,158\\n\\n11\\n\\n1,710\\n26,784\\n\\n19,898\\n\\n1,710\\n46,682\\n\\n1,788\\n40,046\\n\\n28,494\\n\\n19,898\\n\\n48,392\\n\\n41,834\\n\\nNot\\nes\\nFIXED ASSETS\\nTangible assets\\n\\n31.3.16\\nTotal funds\\n\\nUnrestricted\\nfund\\n\\xc2\\xa3\\n\\n12\\n\\n477\\n\\n(1,108)\\n\\n\\xc2\\xa3\\n\\n(631)\\n\\n\\xc2\\xa3\\n\\n(1,475)\\n\\n28,971\\n\\n18,790\\n\\n47,761\\n\\n40,359\\n\\nTOTAL ASSETS LESS CURRENT\\nLIABILITIES\\n\\n105,194\\n\\n22,343\\n\\n127,537\\n\\n130,517\\n\\nNET ASSETS\\n\\n105,194\\n\\n22,343\\n\\n127,537\\n\\n130,517\\n\\n105,194\\n22,343\\n\\n107,724\\n22,793\\n\\n127,537\\n\\n130,517\\n\\nNET CURRENT ASSETS\\n\\nFUNDS\\nUnrestricted funds\\nRestricted funds\\n\\n13\\n\\nTOTAL FUNDS\\n\\nThe notes form part of these financial statements\\nPage 8\\n\\ncontinued...\\n\\n\\x0cBlackwell Sailing\\nBalance Sheet - continued\\nAt 31 March 2016\\nThe charitable company is entitled to exemption from audit under Section 477 of the Companies Act 2006 for the year\\nended 31 March 2016.\\nThe members have not required the charitable company to obtain an audit of its financial statements for the year\\nended 31 March 2016 in accordance with Section 476 of the Companies Act 2006.\\nThe trustees acknowledge their responsibilities for\\n(a)\\nensuring that the charitable company keeps accounting records that comply with Sections 386 and 387 of the\\nCompanies Act 2006 and\\n(b)\\npreparing financial statements which give a true and fair view of the state of affairs of the charitable company as\\nat the end of each financial year and of its surplus or deficit for each financial year in accordance with the\\nrequirements of Sections 394 and 395 and which otherwise comply with the requirements of the Companies Act\\n2006 relating to financial statements, so far as applicable to the charitable company.\\nThese financial statements have been prepared in accordance with the special provisions of Part 15 of the Companies\\nAct 2006 relating to small charitable companies and with the Financial Reporting Standard for Smaller Entities\\n(effective January 2015).\\nThe financial statements were approved by the Board of Trustees on ............................................. and were signed on its\\nbehalf by:\\n\\n.............................................\\nL M Gooch -Trustee\\n\\nThe notes form part of these financial statements\\nPage 9\\n\\n\\x0cBlackwell Sailing\\nNotes to the Financial Statements\\nfor the Year Ended 31 March 2016\\n1.\\n\\nACCOUNTING POLICIES\\nAccounting convention\\nThe financial statements have been prepared under the historical cost convention, and in accordance with the\\nFinancial Reporting Standard for Smaller Entities (effective April 2008), the Companies Act 2006 and the\\nrequirements of the Statement of Recommended Practice, Accounting and Reporting by Charities.\\nIncoming resources\\nAll incoming resources are included on the Statement of Financial Activities when the charity is legally entitled\\nto the income and the amount can be quantified with reasonable accuracy.\\nResources expended\\nExpenditure is accounted for on an accruals basis and has been classified under headings that aggregate all cost\\nrelated to the category. Where costs cannot be directly attributed to particular headings they have been allocated\\nto activities on a basis consistent with the use of resources.\\nTangible fixed assets\\nDepreciation is provided at the following annual rates in order to write off the cost less estimated residual value\\nof each asset over its estimated useful life.\\nLand and buildings\\nPlant and machinery etc\\n\\n- 10% on cost\\n- 5% on reducing balance\\n\\nTaxation\\nThe charity is exempt from corporation tax on its charitable activities.\\nFund accounting\\nUnrestricted funds can be used in accordance with the charitable objectives at the discretion of the trustees.\\nRestricted funds can only be used for particular restricted purposes within the objects of the charity.\\nRestrictions arise when specified by the donor or when funds are raised for particular restricted purposes.\\nFurther explanation of the nature and purpose of each fund is included in the notes to the financial statements.\\nPension costs and other post-retirement benefits\\nThe charitable company operates a defined contribution pension scheme. Contributions payable to the\\ncharitable company\\'s pension scheme are charged to the Statement of Financial Activities in the period to which\\nthey relate.\\n\\nPage 10\\n\\n\\x0cBlackwell Sailing\\nNotes to the Financial Statements - continued\\nfor the Year Ended 31 March 2016\\n2.\\n\\nVOLUNTARY INCOME\\n\\nDonations\\nGrants\\nDonated services and facilities\\n\\n31.3.16\\n\\xc2\\xa3\\n8,684\\n57,162\\n-\\n\\n31.3.15\\n\\xc2\\xa3\\n3,289\\n39,107\\n1,400\\n\\n65,846\\n\\n43,796\\n\\n31.3.16\\n\\xc2\\xa3\\n2,000\\n20,000\\n9,334\\n12,500\\n10,000\\n2,000\\n800\\n528\\n\\n31.3.15\\n\\xc2\\xa3\\n1,000\\n15,000\\n14,000\\n689\\n4,960\\n1,398\\n1,560\\n500\\n-\\n\\n57,162\\n\\n39,107\\n\\n31.3.16\\n\\xc2\\xa3\\n326\\n-\\n\\n31.3.15\\n\\xc2\\xa3\\n1,683\\n1,549\\n144\\n\\n326\\n\\n3,376\\n\\n31.3.16\\n\\xc2\\xa3\\n-\\n\\n31.3.15\\n\\xc2\\xa3\\n60\\n\\nDirect costs\\n\\nTotals\\n\\n\\xc2\\xa3\\n68,522\\n\\n\\xc2\\xa3\\n68,522\\n\\nGrants received, included in the above, are as follows:\\n\\nLakeland Disability Support\\nSir John Fisher Foundation\\nNorthern Rock Foundation\\nRumic Foundation\\nBaily Thomas Charitable Fund\\nFrieda Scott Charitable Trust\\nCumbria Community Foundation\\nLloyds Bank Foundation\\nPlas Menai - Donations\\nJames Cropper\\nHadfield Charitable Trust\\nRothera Trust\\nWindermere Rotary\\n\\n3.\\n\\nACTIVITIES FOR GENERATING FUNDS\\n\\nFundraising events\\nRecipe Book\\nS/Shirt Sales\\n\\n4.\\n\\nINVESTMENT INCOME\\n\\nDeposit account interest\\n\\n5.\\n\\nCHARITABLE ACTIVITIES COSTS\\n\\nRunning Costs\\n\\nPage 11\\n\\n\\x0cBlackwell Sailing\\nNotes to the Financial Statements - continued\\nfor the Year Ended 31 March 2016\\n6.\\n\\nGOVERNANCE COSTS\\n\\nAccountancy\\n\\n7.\\n\\n31.3.16\\n\\xc2\\xa3\\n630\\n\\n31.3.15\\n\\xc2\\xa3\\n600\\n\\n31.3.16\\n\\xc2\\xa3\\n10,382\\n-\\n\\n31.3.15\\n\\xc2\\xa3\\n10,541\\n2,645\\n\\nNET INCOMING/(OUTGOING) RESOURCES\\nNet resources are stated after charging/(crediting):\\n\\nDepreciation - owned assets\\nDeficit on disposal of fixed asset\\n\\n8.\\n\\nTRUSTEES\\' REMUNERATION AND BENEFITS\\nThere were no trustees\\' remuneration or other benefits for the year ended 31 March 2016 nor for the year ended\\n31 March 2015.\\nTrustees\\' expenses\\nThere were no trustees\\' expenses paid for the year ended 31 March 2016 nor for the year ended 31 March 2015.\\n\\n9.\\n\\nSTAFF COSTS\\n\\nWages and salaries\\nSocial security costs\\nOther pension costs\\n\\n31.3.16\\n\\xc2\\xa3\\n31,277\\n1,517\\n3,566\\n\\n31.3.15\\n\\xc2\\xa3\\n30,040\\n1,392\\n3,514\\n\\n36,360\\n\\n34,946\\n\\n31.3.16\\n1\\n\\n31.3.15\\n1\\n\\nThe average monthly number of employees during the year was as follows:\\n\\nCharity Manager\\n\\nNo employees received emoluments in excess of \\xc2\\xa360,000.\\n\\nPage 12\\n\\n\\x0cBlackwell Sailing\\nNotes to the Financial Statements - continued\\nfor the Year Ended 31 March 2016\\n10.\\n\\nTANGIBLE FIXED ASSETS\\nLand and\\nPlant and\\nbuildings machinery etc\\n\\xc2\\xa3\\n\\xc2\\xa3\\n\\n11.\\n\\nCOST\\nAt 1 April 2015 and 31 March 2016\\n\\n73,429\\n\\n96,979\\n\\n170,408\\n\\nDEPRECIATION\\nAt 1 April 2015\\nCharge for year\\n\\n44,058\\n7,343\\n\\n36,192\\n3,039\\n\\n80,250\\n10,382\\n\\nAt 31 March 2016\\n\\n51,401\\n\\n39,231\\n\\n90,632\\n\\nNET BOOK VALUE\\nAt 31 March 2016\\n\\n22,028\\n\\n57,748\\n\\n79,776\\n\\nAt 31 March 2015\\n\\n29,371\\n\\n60,787\\n\\n90,158\\n\\n31.3.16\\n\\xc2\\xa3\\n1,710\\n\\n31.3.15\\n\\xc2\\xa3\\n1,788\\n\\n31.3.16\\n\\xc2\\xa3\\n1\\n630\\n\\n31.3.15\\n\\xc2\\xa3\\n2\\n1,473\\n\\n631\\n\\n1,475\\n\\nDEBTORS: AMOUNTS FALLING DUE WITHIN ONE YEAR\\n\\nOther debtors\\n\\n12.\\n\\nTotals\\n\\xc2\\xa3\\n\\nCREDITORS: AMOUNTS FALLING DUE WITHIN ONE YEAR\\n\\nTrade creditors\\nOther creditors\\n\\nPage 13\\n\\n\\x0cBlackwell Sailing\\nNotes to the Financial Statements - continued\\nfor the Year Ended 31 March 2016\\n13.\\n\\nMOVEMENT IN FUNDS\\n\\nAt 1.4.15\\n\\xc2\\xa3\\nUnrestricted funds\\nGeneral fund\\n\\n107,724\\n\\nRestricted funds\\nActivity Holiday 12\\nSir John Fisher Foundation & Northern Rock\\nLakeland Disability Support\\nRumic Foundation Trust\\nRunning Costs\\nAwards For All\\nWndermere and Ambleside Lions\\nCumbria Community Comic Relief\\nPeter Harrison Foundation\\nJanet Lefton\\nRecipe Books & Publicity\\nBaily Thomas Charitable Fund - Instruction\\nVital Transport\\nWindermere Rotary\\n\\n599\\n17,633\\n(50)\\n32\\n(170)\\n(1)\\n(43)\\n(929)\\n(8)\\n770\\n4,960\\n-\\n\\nTOTAL FUNDS\\n\\nNet movement\\nin funds\\n\\xc2\\xa3\\n(2,530)\\n\\n(1,732)\\n(1,899)\\n776\\n7,090\\n(4,960)\\n277\\n(2)\\n\\nAt 31.3.16\\n\\xc2\\xa3\\n105,194\\n\\n(1,133)\\n15,734\\n726\\n32\\n7,090\\n(170)\\n(1)\\n(43)\\n(929)\\n(8)\\n770\\n277\\n(2)\\n\\n22,793\\n\\n(450)\\n\\n22,343\\n\\n130,517\\n\\n(2,980)\\n\\n127,537\\n\\nNet movement in funds, included in the above are as follows:\\nIncoming\\nresources\\n\\xc2\\xa3\\nUnrestricted funds\\nGeneral fund\\nRestricted funds\\nActivity Holiday 12\\nSir John Fisher Foundation & Northern Rock\\nLakeland Disability Support\\nRunning Costs\\nBaily Thomas Charitable Fund - Instruction\\nVital Transport\\nWindermere Rotary\\n\\nTOTAL FUNDS\\n\\nPage 14\\n\\nResources\\nexpended\\n\\xc2\\xa3\\n\\nMovement in\\nfunds\\n\\xc2\\xa3\\n\\n7,093\\n\\n(9,623)\\n\\n(2,530)\\n\\n1,627\\n35,334\\n2,000\\n17,590\\n2,000\\n528\\n\\n(3,359)\\n(37,233)\\n(1,224)\\n(10,500)\\n(4,960)\\n(1,723)\\n(530)\\n\\n(1,732)\\n(1,899)\\n776\\n7,090\\n(4,960)\\n277\\n(2)\\n\\n59,079\\n\\n(59,529)\\n\\n(450)\\n\\n66,172\\n\\n(69,152)\\n\\n(2,980)\\n\\n\\x0cThis page does not form part of the statutory financial statements\\nPage 16\\n\\n\\x0c'"
      ]
     },
     "execution_count": 19,
     "metadata": {},
     "output_type": "execute_result"
    }
   ],
   "source": [
    "pdf_to_text_2(path)"
   ]
  },
  {
   "cell_type": "markdown",
   "id": "e6e93ec9",
   "metadata": {},
   "source": [
    "# Reads all PDF in a folder"
   ]
  },
  {
   "cell_type": "code",
   "execution_count": 21,
   "id": "07f31d0a",
   "metadata": {},
   "outputs": [],
   "source": [
    "directory = \"/home/sergei/Public/BeCode/Projects/kleister-charity/documents\"\n",
    "file_names = []\n",
    "file_texts = []\n"
   ]
  },
  {
   "cell_type": "code",
   "execution_count": 22,
   "id": "d6fbe4e6",
   "metadata": {},
   "outputs": [
    {
     "name": "stdout",
     "output_type": "stream",
     "text": [
      "CPU times: user 2 µs, sys: 0 ns, total: 2 µs\n",
      "Wall time: 4.53 µs\n"
     ]
    }
   ],
   "source": [
    "%time\n",
    "for file in os.listdir(directory):\n",
    "    if not file.endswith(\".pdf\"):\n",
    "        continue\n",
    "    path = os.path.join(directory,file)\n",
    "    file_names.append(file)\n",
    "    file_texts.append(pdf_to_text_2(path))"
   ]
  },
  {
   "cell_type": "code",
   "execution_count": 23,
   "id": "64f36558",
   "metadata": {},
   "outputs": [
    {
     "data": {
      "text/plain": [
       "3412"
      ]
     },
     "execution_count": 23,
     "metadata": {},
     "output_type": "execute_result"
    }
   ],
   "source": [
    "len(file_names)"
   ]
  },
  {
   "cell_type": "code",
   "execution_count": 24,
   "id": "b1aeb428",
   "metadata": {},
   "outputs": [
    {
     "data": {
      "text/plain": [
       "3412"
      ]
     },
     "execution_count": 24,
     "metadata": {},
     "output_type": "execute_result"
    }
   ],
   "source": [
    "len (file_texts)"
   ]
  },
  {
   "cell_type": "code",
   "execution_count": 5,
   "id": "381ed40c",
   "metadata": {},
   "outputs": [
    {
     "name": "stdout",
     "output_type": "stream",
     "text": [
      "file.tsv\n"
     ]
    }
   ],
   "source": [
    "class PdfReader:\n",
    "    def __init__(self, directory,file_name=input()):\n",
    "        self.directory = directory\n",
    "        self.file_names = []\n",
    "        self.file_texts = []\n",
    "        self.file_name = file_name\n",
    "        self._read_folder()\n",
    "        self._to_data()\n",
    "        self._to_tsv()\n",
    "        \n",
    "    def _pdf_to_text(self, file):\n",
    "        try:\n",
    "            text = textract.process(file)\n",
    "        except:\n",
    "            text = \"\"\n",
    "        return text\n",
    "    \n",
    "    def _read_folder(self):\n",
    "        for file in os.listdir(self.directory):\n",
    "            if not file.endswith(\".pdf\"):\n",
    "                continue\n",
    "            path = os.path.join(self.directory, file)\n",
    "            self.file_names.apped(file)\n",
    "            self.file_texts.append(file)\n",
    "    \n",
    "    def _to_data(self):\n",
    "        self.df = pd.DataFrame({\"file_names\":self.file_names,\n",
    "                               \"file_texts\":self.file_texts})\n",
    "        \n",
    "    def _to_tsv(self):\n",
    "        self.df.to_csv(self.file_name)"
   ]
  },
  {
   "cell_type": "code",
   "execution_count": 25,
   "id": "2bc0ea65",
   "metadata": {},
   "outputs": [],
   "source": [
    "pdf_data = pd.DataFrame({\"file_name\":file_names, \"file_texts\":file_texts})"
   ]
  },
  {
   "cell_type": "code",
   "execution_count": 27,
   "id": "726e87c5",
   "metadata": {},
   "outputs": [],
   "source": [
    "pdf_data.to_csv(\"pdf_data_textract.tsv\")"
   ]
  },
  {
   "cell_type": "code",
   "execution_count": 31,
   "id": "a3d609d6",
   "metadata": {},
   "outputs": [],
   "source": [
    "!git add ."
   ]
  },
  {
   "cell_type": "code",
   "execution_count": 32,
   "id": "20f6d4ed",
   "metadata": {},
   "outputs": [
    {
     "name": "stdout",
     "output_type": "stream",
     "text": [
      "[main d8ca00f] Update Pdf Reader Module\n",
      " 2 files changed, 14 insertions(+), 3415 deletions(-)\n",
      " delete mode 100644 pdf_data_textract.tsv\n"
     ]
    }
   ],
   "source": [
    "!git commit -m \"Update Pdf Reader Module\""
   ]
  },
  {
   "cell_type": "code",
   "execution_count": 34,
   "id": "9a762818",
   "metadata": {},
   "outputs": [
    {
     "name": "stdout",
     "output_type": "stream",
     "text": [
      "rm '.gitignore'\r\n",
      "rm 'Pdf_reader.ipynb'\r\n",
      "rm 'Pdf_vectorizer.ipynb'\r\n",
      "rm 'Test Modeling.ipynb'\r\n",
      "rm 'document_clustering.md'\r\n",
      "rm 'jupyter console.ipynb'\r\n"
     ]
    }
   ],
   "source": [
    "!git rm -r --cached ."
   ]
  },
  {
   "cell_type": "code",
   "execution_count": 35,
   "id": "a576868d",
   "metadata": {},
   "outputs": [
    {
     "name": "stdout",
     "output_type": "stream",
     "text": [
      "On branch main\r\n",
      "Your branch is ahead of 'origin/main' by 2 commits.\r\n",
      "  (use \"git push\" to publish your local commits)\r\n",
      "\r\n",
      "Changes to be committed:\r\n",
      "  (use \"git restore --staged <file>...\" to unstage)\r\n",
      "\t\u001b[32mdeleted:    .gitignore\u001b[m\r\n",
      "\t\u001b[32mdeleted:    Pdf_reader.ipynb\u001b[m\r\n",
      "\t\u001b[32mdeleted:    Pdf_vectorizer.ipynb\u001b[m\r\n",
      "\t\u001b[32mdeleted:    Test Modeling.ipynb\u001b[m\r\n",
      "\t\u001b[32mdeleted:    document_clustering.md\u001b[m\r\n",
      "\t\u001b[32mdeleted:    jupyter console.ipynb\u001b[m\r\n",
      "\r\n",
      "Untracked files:\r\n",
      "  (use \"git add <file>...\" to include in what will be committed)\r\n",
      "\t\u001b[31m.gitignore\u001b[m\r\n",
      "\t\u001b[31mPdf_reader.ipynb\u001b[m\r\n",
      "\t\u001b[31mPdf_vectorizer.ipynb\u001b[m\r\n",
      "\t\u001b[31mTest Modeling.ipynb\u001b[m\r\n",
      "\t\u001b[31mdocument_clustering.md\u001b[m\r\n",
      "\t\u001b[31mjupyter console.ipynb\u001b[m\r\n",
      "\r\n"
     ]
    }
   ],
   "source": [
    "!git status"
   ]
  },
  {
   "cell_type": "code",
   "execution_count": 37,
   "id": "c7c2027a",
   "metadata": {},
   "outputs": [],
   "source": [
    "!git add ."
   ]
  },
  {
   "cell_type": "code",
   "execution_count": 38,
   "id": "3c104c50",
   "metadata": {},
   "outputs": [
    {
     "name": "stdout",
     "output_type": "stream",
     "text": [
      "[main 973c6d3] Update pdf reader module\r\n",
      " 1 file changed, 138 insertions(+), 6 deletions(-)\r\n"
     ]
    }
   ],
   "source": [
    "!git commit -m \"Update pdf reader module\""
   ]
  },
  {
   "cell_type": "code",
   "execution_count": 39,
   "id": "98c72306",
   "metadata": {},
   "outputs": [
    {
     "name": "stdout",
     "output_type": "stream",
     "text": [
      "Enumerating objects: 14, done.\n",
      "Counting objects: 100% (14/14), done.\n",
      "Delta compression using up to 12 threads\n",
      "Compressing objects: 100% (11/11), done.\n",
      "Writing objects: 100% (11/11), 44.38 MiB | 3.02 MiB/s, done.\n",
      "Total 11 (delta 6), reused 0 (delta 0)\n",
      "remote: Resolving deltas: 100% (6/6), completed with 2 local objects.\u001b[K\n",
      "remote: \u001b[1;31merror\u001b[m: GH001: Large files detected. You may want to try Git Large File Storage - https://git-lfs.github.com.\u001b[K\n",
      "remote: \u001b[1;31merror\u001b[m: Trace: b9c2901125ec0c7154e3d1ecc52f9a933736a8a4c23c690dbfe87e0a6076c37f\u001b[K\n",
      "remote: \u001b[1;31merror\u001b[m: See http://git.io/iEPt8g for more information.\u001b[K\n",
      "remote: \u001b[1;31merror\u001b[m: File pdf_data_textract.tsv is 140.33 MB; this exceeds GitHub's file size limit of 100.00 MB\u001b[K\n",
      "To github.com:spolovynko/Document-Clustering.git\n",
      " \u001b[31m! [remote rejected]\u001b[m main -> main (pre-receive hook declined)\n",
      "\u001b[31merror: failed to push some refs to 'git@github.com:spolovynko/Document-Clustering.git'\n",
      "\u001b[m"
     ]
    }
   ],
   "source": [
    "!git push origin"
   ]
  },
  {
   "cell_type": "code",
   "execution_count": 40,
   "id": "47fc1076",
   "metadata": {},
   "outputs": [
    {
     "name": "stdout",
     "output_type": "stream",
     "text": [
      "On branch main\r\n",
      "Your branch is ahead of 'origin/main' by 3 commits.\r\n",
      "  (use \"git push\" to publish your local commits)\r\n",
      "\r\n",
      "nothing to commit, working tree clean\r\n"
     ]
    }
   ],
   "source": [
    "!git status"
   ]
  },
  {
   "cell_type": "code",
   "execution_count": 41,
   "id": "866bd84a",
   "metadata": {},
   "outputs": [
    {
     "name": "stdout",
     "output_type": "stream",
     "text": [
      "Enumerating objects: 14, done.\n",
      "Counting objects: 100% (14/14), done.\n",
      "Delta compression using up to 12 threads\n",
      "Compressing objects: 100% (11/11), done.\n",
      "Writing objects: 100% (11/11), 44.38 MiB | 2.96 MiB/s, done.\n",
      "Total 11 (delta 6), reused 0 (delta 0)\n",
      "remote: Resolving deltas: 100% (6/6), completed with 2 local objects.\u001b[K\n",
      "remote: \u001b[1;31merror\u001b[m: GH001: Large files detected. You may want to try Git Large File Storage - https://git-lfs.github.com.\u001b[K\n",
      "remote: \u001b[1;31merror\u001b[m: Trace: d42bcda745b782a06eae7c5393dbc2c2629af998316f7e6de0490c2af581d6cb\u001b[K\n",
      "remote: \u001b[1;31merror\u001b[m: See http://git.io/iEPt8g for more information.\u001b[K\n",
      "remote: \u001b[1;31merror\u001b[m: File pdf_data_textract.tsv is 140.33 MB; this exceeds GitHub's file size limit of 100.00 MB\u001b[K\n",
      "To github.com:spolovynko/Document-Clustering.git\n",
      " \u001b[31m! [remote rejected]\u001b[m main -> main (pre-receive hook declined)\n",
      "\u001b[31merror: failed to push some refs to 'git@github.com:spolovynko/Document-Clustering.git'\n",
      "\u001b[m"
     ]
    }
   ],
   "source": [
    "!git push"
   ]
  },
  {
   "cell_type": "code",
   "execution_count": 42,
   "id": "66796261",
   "metadata": {},
   "outputs": [
    {
     "name": "stdout",
     "output_type": "stream",
     "text": [
      "\u001b[33mcommit 973c6d389159f7e6d52e31b2c18b0bdab2f228f0\u001b[m\u001b[33m (\u001b[m\u001b[1;36mHEAD -> \u001b[m\u001b[1;32mmain\u001b[m\u001b[33m)\u001b[m\r\n",
      "Author: spolovynko <spolovynko@gmail.com>\r\n",
      "Date:   Sun Jul 18 14:50:46 2021 +0200\r\n",
      "\r\n",
      "    Update pdf reader module\r\n",
      "\r\n",
      "\u001b[33mcommit d8ca00fd40570ec198e5f3f05d41fccc7af7325e\u001b[m\r\n",
      "Author: spolovynko <spolovynko@gmail.com>\r\n",
      "Date:   Sun Jul 18 14:45:58 2021 +0200\r\n",
      "\r\n",
      "    Update Pdf Reader Module\r\n",
      "\r\n",
      "\u001b[33mcommit 281b5e837ec38936fc06a2f43017da6048ce764e\u001b[m\r\n",
      "Author: spolovynko <spolovynko@gmail.com>\r\n",
      "Date:   Sun Jul 18 14:44:32 2021 +0200\r\n",
      "\r\n",
      "    Update Pdf Reader Module\r\n",
      "\r\n",
      "\u001b[33mcommit a6fa7798f0a911903ce9d706dff5dd86d27066a1\u001b[m\u001b[33m (\u001b[m\u001b[1;31morigin/main\u001b[m\u001b[33m, \u001b[m\u001b[1;31morigin/HEAD\u001b[m\u001b[33m)\u001b[m\r\n",
      "Author: spolovynko <spolovynko@gmail.com>\r\n",
      "Date:   Fri Jul 16 15:38:53 2021 +0200\r\n",
      "\r\n",
      "    Add KMeans\r\n",
      "\r\n",
      "\u001b[33mcommit 253687694f540e0570f8ecdc39f92b3091c2be21\u001b[m\r\n",
      "Author: spolovynko <spolovynko@gmail.com>\r\n",
      "Date:   Fri Jul 16 11:04:42 2021 +0200\r\n",
      "\r\n",
      "    Update KMeans\r\n",
      "\r\n",
      "\u001b[33mcommit 8881c005a50a87bb8ac27540f1f574dfcc83e145\u001b[m\r\n",
      "Author: spolovynko <spolovynko@gmail.com>\r\n",
      "Date:   Thu Jul 15 12:14:53 2021 +0200\r\n",
      "\r\n",
      "    Update pdf dataset\r\n",
      "\r\n",
      "\u001b[33mcommit a548e0bd422ef740d280fc541a41ecf8d97a7f0f\u001b[m\r\n",
      "Author: Sergiy Polovynko <68398655+spolovynko@users.noreply.github.com>\r\n",
      "Date:   Thu Jul 15 12:10:44 2021 +0200\r\n",
      "\r\n",
      "    Initial commit\r\n"
     ]
    }
   ],
   "source": [
    "!git log"
   ]
  },
  {
   "cell_type": "code",
   "execution_count": null,
   "id": "cfd44d04",
   "metadata": {},
   "outputs": [],
   "source": []
  }
 ],
 "metadata": {
  "kernelspec": {
   "display_name": "Python 3",
   "language": "python",
   "name": "python3"
  },
  "language_info": {
   "codemirror_mode": {
    "name": "ipython",
    "version": 3
   },
   "file_extension": ".py",
   "mimetype": "text/x-python",
   "name": "python",
   "nbconvert_exporter": "python",
   "pygments_lexer": "ipython3",
   "version": "3.8.8"
  }
 },
 "nbformat": 4,
 "nbformat_minor": 5
}
