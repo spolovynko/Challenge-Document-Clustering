{
 "cells": [
  {
   "cell_type": "code",
   "execution_count": 7,
   "id": "e117d6ff",
   "metadata": {},
   "outputs": [],
   "source": [
    "import pandas as pd\n",
    "import textract\n",
    "import os"
   ]
  },
  {
   "cell_type": "code",
   "execution_count": 4,
   "id": "b94d3979",
   "metadata": {},
   "outputs": [],
   "source": [
    "directory = \"/home/sergei/Public/BeCode/Projects/kleister-charity/documents\"\n",
    "file_name = \"new_file.tsv\""
   ]
  },
  {
   "cell_type": "code",
   "execution_count": 11,
   "id": "54747986",
   "metadata": {},
   "outputs": [],
   "source": [
    "class PdfReader:\n",
    "    def __init__(self, directory,file_name):\n",
    "        self.directory = directory\n",
    "        self.file_name = file_name\n",
    "        self.file_names = []\n",
    "        self.file_texts = []\n",
    "        \n",
    "    def _pdf_to_text(self, file):\n",
    "        self.file = file\n",
    "        try:\n",
    "            text = textract.process(self.file)\n",
    "        except:\n",
    "            text = \"\"\n",
    "        return text\n",
    "    \n",
    "    def _read_folder(self):\n",
    "        for file in os.listdir(self.directory):\n",
    "            if not file.endswith(\".pdf\"):\n",
    "                continue\n",
    "            path = os.path.join(self.directory, file)\n",
    "            self.file_names.append(file)\n",
    "            self.file_texts.append(self._pdf_to_text(file))\n",
    "    \n",
    "    def _to_data(self):\n",
    "        self.df = pd.DataFrame({\"file_names\":self.file_names,\n",
    "                               \"file_texts\":self.file_texts})\n",
    "        \n",
    "    def _to_tsv(self):\n",
    "        self.df.to_csv(self.file_name)\n",
    "        \n",
    "    def read(self):\n",
    "        self._read_folder()\n",
    "        self._to_tsv()"
   ]
  },
  {
   "cell_type": "code",
   "execution_count": 12,
   "id": "3699aa4e",
   "metadata": {},
   "outputs": [],
   "source": [
    "new_pdf = PdfReader(directory,file_name)"
   ]
  },
  {
   "cell_type": "code",
   "execution_count": 13,
   "id": "5fed9e63",
   "metadata": {},
   "outputs": [
    {
     "ename": "AttributeError",
     "evalue": "'PdfReader' object has no attribute 'df'",
     "output_type": "error",
     "traceback": [
      "\u001b[0;31m---------------------------------------------------------------------------\u001b[0m",
      "\u001b[0;31mAttributeError\u001b[0m                            Traceback (most recent call last)",
      "\u001b[0;32m<ipython-input-13-3669918c7d67>\u001b[0m in \u001b[0;36m<module>\u001b[0;34m\u001b[0m\n\u001b[0;32m----> 1\u001b[0;31m \u001b[0mnew_pdf\u001b[0m\u001b[0;34m.\u001b[0m\u001b[0mread\u001b[0m\u001b[0;34m(\u001b[0m\u001b[0;34m)\u001b[0m\u001b[0;34m\u001b[0m\u001b[0;34m\u001b[0m\u001b[0m\n\u001b[0m",
      "\u001b[0;32m<ipython-input-11-1253e1c6e281>\u001b[0m in \u001b[0;36mread\u001b[0;34m(self)\u001b[0m\n\u001b[1;32m     31\u001b[0m     \u001b[0;32mdef\u001b[0m \u001b[0mread\u001b[0m\u001b[0;34m(\u001b[0m\u001b[0mself\u001b[0m\u001b[0;34m)\u001b[0m\u001b[0;34m:\u001b[0m\u001b[0;34m\u001b[0m\u001b[0;34m\u001b[0m\u001b[0m\n\u001b[1;32m     32\u001b[0m         \u001b[0mself\u001b[0m\u001b[0;34m.\u001b[0m\u001b[0m_read_folder\u001b[0m\u001b[0;34m(\u001b[0m\u001b[0;34m)\u001b[0m\u001b[0;34m\u001b[0m\u001b[0;34m\u001b[0m\u001b[0m\n\u001b[0;32m---> 33\u001b[0;31m         \u001b[0mself\u001b[0m\u001b[0;34m.\u001b[0m\u001b[0m_to_tsv\u001b[0m\u001b[0;34m(\u001b[0m\u001b[0;34m)\u001b[0m\u001b[0;34m\u001b[0m\u001b[0;34m\u001b[0m\u001b[0m\n\u001b[0m",
      "\u001b[0;32m<ipython-input-11-1253e1c6e281>\u001b[0m in \u001b[0;36m_to_tsv\u001b[0;34m(self)\u001b[0m\n\u001b[1;32m     27\u001b[0m \u001b[0;34m\u001b[0m\u001b[0m\n\u001b[1;32m     28\u001b[0m     \u001b[0;32mdef\u001b[0m \u001b[0m_to_tsv\u001b[0m\u001b[0;34m(\u001b[0m\u001b[0mself\u001b[0m\u001b[0;34m)\u001b[0m\u001b[0;34m:\u001b[0m\u001b[0;34m\u001b[0m\u001b[0;34m\u001b[0m\u001b[0m\n\u001b[0;32m---> 29\u001b[0;31m         \u001b[0mself\u001b[0m\u001b[0;34m.\u001b[0m\u001b[0mdf\u001b[0m\u001b[0;34m.\u001b[0m\u001b[0mto_csv\u001b[0m\u001b[0;34m(\u001b[0m\u001b[0mself\u001b[0m\u001b[0;34m.\u001b[0m\u001b[0mfile_name\u001b[0m\u001b[0;34m)\u001b[0m\u001b[0;34m\u001b[0m\u001b[0;34m\u001b[0m\u001b[0m\n\u001b[0m\u001b[1;32m     30\u001b[0m \u001b[0;34m\u001b[0m\u001b[0m\n\u001b[1;32m     31\u001b[0m     \u001b[0;32mdef\u001b[0m \u001b[0mread\u001b[0m\u001b[0;34m(\u001b[0m\u001b[0mself\u001b[0m\u001b[0;34m)\u001b[0m\u001b[0;34m:\u001b[0m\u001b[0;34m\u001b[0m\u001b[0;34m\u001b[0m\u001b[0m\n",
      "\u001b[0;31mAttributeError\u001b[0m: 'PdfReader' object has no attribute 'df'"
     ]
    }
   ],
   "source": [
    "new_pdf.read()"
   ]
  },
  {
   "cell_type": "code",
   "execution_count": null,
   "id": "b073b3d2",
   "metadata": {},
   "outputs": [],
   "source": []
  }
 ],
 "metadata": {
  "kernelspec": {
   "display_name": "Python 3",
   "language": "python",
   "name": "python3"
  },
  "language_info": {
   "codemirror_mode": {
    "name": "ipython",
    "version": 3
   },
   "file_extension": ".py",
   "mimetype": "text/x-python",
   "name": "python",
   "nbconvert_exporter": "python",
   "pygments_lexer": "ipython3",
   "version": "3.8.8"
  }
 },
 "nbformat": 4,
 "nbformat_minor": 5
}
