{
 "cells": [
  {
   "cell_type": "code",
   "execution_count": 11,
   "id": "c135d9f7",
   "metadata": {},
   "outputs": [],
   "source": [
    "#Data manipulation\n",
    "import pandas as pd\n",
    "import numpy as np\n",
    "\n",
    "#Data visualisation\n",
    "import matplotlib.pyplot as plt\n",
    "\n",
    "#Warning\n",
    "import warnings\n",
    "warnings.filterwarnings(\"ignore\")\n",
    "\n",
    "#Vectorizer\n",
    "from sklearn.feature_extraction.text import TfidfVectorizer as tfidf\n",
    "\n",
    "#Clustering\n",
    "from sklearn.cluster import KMeans\n",
    "from sklearn.decomposition import PCA\n",
    "from sklearn.manifold import TSNE\n",
    "\n",
    "#NLTK\n",
    "import nltk\n",
    "from nltk.corpus import stopwords\n",
    "\n",
    "#scipy\n",
    "from scipy.cluster.vq import kmeans"
   ]
  },
  {
   "cell_type": "code",
   "execution_count": 12,
   "id": "9c4dbd22",
   "metadata": {},
   "outputs": [],
   "source": [
    "pdf = pd.read_csv(\"../dataset/pdf_data_textract.tsv\")\n",
    "pdf.drop([\"Unnamed: 0\"],axis=1, inplace=True)\n",
    "pdf = pdf[\"file_texts\"].dropna()"
   ]
  },
  {
   "cell_type": "code",
   "execution_count": 15,
   "id": "83142d17",
   "metadata": {},
   "outputs": [],
   "source": [
    "pdf = pdf.replace(r\"\\\\n\", ' ', regex=True).str.replace('\\d+', ' ')"
   ]
  },
  {
   "cell_type": "markdown",
   "id": "ef090ad0",
   "metadata": {},
   "source": [
    "# Vectorizer"
   ]
  },
  {
   "cell_type": "code",
   "execution_count": 26,
   "id": "2cfb6ea7",
   "metadata": {},
   "outputs": [],
   "source": [
    "vectorizer = tfidf(analyzer=\"word\" ,stop_words=\"english\", min_df=0.2, max_df=0.9, use_idf=True, smooth_idf=True)\n",
    "pdf_matrix = vectorizer.fit_transform(pdf)\n",
    "X = pdf_matrix.todense()\n",
    "X_list = X.tolist()\n",
    "words = vectorizer.get_feature_names()\n",
    "df = pd.DataFrame(X_list, columns=words)"
   ]
  },
  {
   "cell_type": "code",
   "execution_count": 27,
   "id": "2e3721ff",
   "metadata": {},
   "outputs": [
    {
     "data": {
      "text/plain": [
       "(3408, 1209)"
      ]
     },
     "execution_count": 27,
     "metadata": {},
     "output_type": "execute_result"
    }
   ],
   "source": [
    "df.shape"
   ]
  },
  {
   "cell_type": "code",
   "execution_count": 28,
   "id": "f847978f",
   "metadata": {},
   "outputs": [
    {
     "data": {
      "text/html": [
       "<div>\n",
       "<style scoped>\n",
       "    .dataframe tbody tr th:only-of-type {\n",
       "        vertical-align: middle;\n",
       "    }\n",
       "\n",
       "    .dataframe tbody tr th {\n",
       "        vertical-align: top;\n",
       "    }\n",
       "\n",
       "    .dataframe thead th {\n",
       "        text-align: right;\n",
       "    }\n",
       "</style>\n",
       "<table border=\"1\" class=\"dataframe\">\n",
       "  <thead>\n",
       "    <tr style=\"text-align: right;\">\n",
       "      <th></th>\n",
       "      <th>ability</th>\n",
       "      <th>able</th>\n",
       "      <th>accept</th>\n",
       "      <th>accepted</th>\n",
       "      <th>access</th>\n",
       "      <th>accommodation</th>\n",
       "      <th>accord</th>\n",
       "      <th>accordance</th>\n",
       "      <th>according</th>\n",
       "      <th>accordingly</th>\n",
       "      <th>...</th>\n",
       "      <th>write</th>\n",
       "      <th>written</th>\n",
       "      <th>www</th>\n",
       "      <th>xa</th>\n",
       "      <th>xb</th>\n",
       "      <th>xc</th>\n",
       "      <th>xe</th>\n",
       "      <th>years</th>\n",
       "      <th>young</th>\n",
       "      <th>youth</th>\n",
       "    </tr>\n",
       "  </thead>\n",
       "  <tbody>\n",
       "    <tr>\n",
       "      <th>0</th>\n",
       "      <td>0.007226</td>\n",
       "      <td>0.000000</td>\n",
       "      <td>0.003513</td>\n",
       "      <td>0.005960</td>\n",
       "      <td>0.000000</td>\n",
       "      <td>0.008868</td>\n",
       "      <td>0.000000</td>\n",
       "      <td>0.022290</td>\n",
       "      <td>0.000000</td>\n",
       "      <td>0.004197</td>\n",
       "      <td>...</td>\n",
       "      <td>0.003194</td>\n",
       "      <td>0.004011</td>\n",
       "      <td>0.003839</td>\n",
       "      <td>0.598220</td>\n",
       "      <td>0.0</td>\n",
       "      <td>0.484417</td>\n",
       "      <td>0.042401</td>\n",
       "      <td>0.028799</td>\n",
       "      <td>0.013085</td>\n",
       "      <td>0.0</td>\n",
       "    </tr>\n",
       "    <tr>\n",
       "      <th>1</th>\n",
       "      <td>0.000000</td>\n",
       "      <td>0.000000</td>\n",
       "      <td>0.000000</td>\n",
       "      <td>0.000000</td>\n",
       "      <td>0.000000</td>\n",
       "      <td>0.000000</td>\n",
       "      <td>0.014132</td>\n",
       "      <td>0.092663</td>\n",
       "      <td>0.000000</td>\n",
       "      <td>0.019194</td>\n",
       "      <td>...</td>\n",
       "      <td>0.014607</td>\n",
       "      <td>0.000000</td>\n",
       "      <td>0.000000</td>\n",
       "      <td>0.000000</td>\n",
       "      <td>0.0</td>\n",
       "      <td>0.000000</td>\n",
       "      <td>0.058168</td>\n",
       "      <td>0.021949</td>\n",
       "      <td>0.000000</td>\n",
       "      <td>0.0</td>\n",
       "    </tr>\n",
       "    <tr>\n",
       "      <th>2</th>\n",
       "      <td>0.000000</td>\n",
       "      <td>0.000000</td>\n",
       "      <td>0.000000</td>\n",
       "      <td>0.000000</td>\n",
       "      <td>0.000000</td>\n",
       "      <td>0.000000</td>\n",
       "      <td>0.000000</td>\n",
       "      <td>0.000000</td>\n",
       "      <td>0.000000</td>\n",
       "      <td>0.000000</td>\n",
       "      <td>...</td>\n",
       "      <td>0.000000</td>\n",
       "      <td>0.000000</td>\n",
       "      <td>0.000000</td>\n",
       "      <td>0.165946</td>\n",
       "      <td>0.0</td>\n",
       "      <td>0.147470</td>\n",
       "      <td>0.335608</td>\n",
       "      <td>0.000000</td>\n",
       "      <td>0.000000</td>\n",
       "      <td>0.0</td>\n",
       "    </tr>\n",
       "    <tr>\n",
       "      <th>3</th>\n",
       "      <td>0.006749</td>\n",
       "      <td>0.003587</td>\n",
       "      <td>0.002187</td>\n",
       "      <td>0.007422</td>\n",
       "      <td>0.004219</td>\n",
       "      <td>0.016564</td>\n",
       "      <td>0.000000</td>\n",
       "      <td>0.026495</td>\n",
       "      <td>0.002858</td>\n",
       "      <td>0.002613</td>\n",
       "      <td>...</td>\n",
       "      <td>0.000000</td>\n",
       "      <td>0.007492</td>\n",
       "      <td>0.000000</td>\n",
       "      <td>0.000000</td>\n",
       "      <td>0.0</td>\n",
       "      <td>0.000000</td>\n",
       "      <td>0.025080</td>\n",
       "      <td>0.049310</td>\n",
       "      <td>0.002037</td>\n",
       "      <td>0.0</td>\n",
       "    </tr>\n",
       "    <tr>\n",
       "      <th>4</th>\n",
       "      <td>0.021304</td>\n",
       "      <td>0.000000</td>\n",
       "      <td>0.000000</td>\n",
       "      <td>0.000000</td>\n",
       "      <td>0.000000</td>\n",
       "      <td>0.000000</td>\n",
       "      <td>0.018222</td>\n",
       "      <td>0.023897</td>\n",
       "      <td>0.000000</td>\n",
       "      <td>0.000000</td>\n",
       "      <td>...</td>\n",
       "      <td>0.000000</td>\n",
       "      <td>0.000000</td>\n",
       "      <td>0.022636</td>\n",
       "      <td>0.000000</td>\n",
       "      <td>0.0</td>\n",
       "      <td>0.000000</td>\n",
       "      <td>0.000000</td>\n",
       "      <td>0.084906</td>\n",
       "      <td>0.000000</td>\n",
       "      <td>0.0</td>\n",
       "    </tr>\n",
       "  </tbody>\n",
       "</table>\n",
       "<p>5 rows × 1209 columns</p>\n",
       "</div>"
      ],
      "text/plain": [
       "    ability      able    accept  accepted    access  accommodation    accord  \\\n",
       "0  0.007226  0.000000  0.003513  0.005960  0.000000       0.008868  0.000000   \n",
       "1  0.000000  0.000000  0.000000  0.000000  0.000000       0.000000  0.014132   \n",
       "2  0.000000  0.000000  0.000000  0.000000  0.000000       0.000000  0.000000   \n",
       "3  0.006749  0.003587  0.002187  0.007422  0.004219       0.016564  0.000000   \n",
       "4  0.021304  0.000000  0.000000  0.000000  0.000000       0.000000  0.018222   \n",
       "\n",
       "   accordance  according  accordingly  ...     write   written       www  \\\n",
       "0    0.022290   0.000000     0.004197  ...  0.003194  0.004011  0.003839   \n",
       "1    0.092663   0.000000     0.019194  ...  0.014607  0.000000  0.000000   \n",
       "2    0.000000   0.000000     0.000000  ...  0.000000  0.000000  0.000000   \n",
       "3    0.026495   0.002858     0.002613  ...  0.000000  0.007492  0.000000   \n",
       "4    0.023897   0.000000     0.000000  ...  0.000000  0.000000  0.022636   \n",
       "\n",
       "         xa   xb        xc        xe     years     young  youth  \n",
       "0  0.598220  0.0  0.484417  0.042401  0.028799  0.013085    0.0  \n",
       "1  0.000000  0.0  0.000000  0.058168  0.021949  0.000000    0.0  \n",
       "2  0.165946  0.0  0.147470  0.335608  0.000000  0.000000    0.0  \n",
       "3  0.000000  0.0  0.000000  0.025080  0.049310  0.002037    0.0  \n",
       "4  0.000000  0.0  0.000000  0.000000  0.084906  0.000000    0.0  \n",
       "\n",
       "[5 rows x 1209 columns]"
      ]
     },
     "execution_count": 28,
     "metadata": {},
     "output_type": "execute_result"
    }
   ],
   "source": [
    "df.head()"
   ]
  },
  {
   "cell_type": "markdown",
   "id": "f1e7c958",
   "metadata": {},
   "source": [
    "# Stopwords"
   ]
  },
  {
   "cell_type": "code",
   "execution_count": 7,
   "id": "8f7f5bf8",
   "metadata": {},
   "outputs": [],
   "source": [
    "stopwords = stopwords.words(\"english\")\n"
   ]
  },
  {
   "cell_type": "code",
   "execution_count": 8,
   "id": "4a7c51ca",
   "metadata": {},
   "outputs": [
    {
     "data": {
      "text/plain": [
       "['i',\n",
       " 'me',\n",
       " 'my',\n",
       " 'myself',\n",
       " 'we',\n",
       " 'our',\n",
       " 'ours',\n",
       " 'ourselves',\n",
       " 'you',\n",
       " \"you're\",\n",
       " \"you've\",\n",
       " \"you'll\",\n",
       " \"you'd\",\n",
       " 'your',\n",
       " 'yours',\n",
       " 'yourself',\n",
       " 'yourselves',\n",
       " 'he',\n",
       " 'him',\n",
       " 'his',\n",
       " 'himself',\n",
       " 'she',\n",
       " \"she's\",\n",
       " 'her',\n",
       " 'hers',\n",
       " 'herself',\n",
       " 'it',\n",
       " \"it's\",\n",
       " 'its',\n",
       " 'itself',\n",
       " 'they',\n",
       " 'them',\n",
       " 'their',\n",
       " 'theirs',\n",
       " 'themselves',\n",
       " 'what',\n",
       " 'which',\n",
       " 'who',\n",
       " 'whom',\n",
       " 'this',\n",
       " 'that',\n",
       " \"that'll\",\n",
       " 'these',\n",
       " 'those',\n",
       " 'am',\n",
       " 'is',\n",
       " 'are',\n",
       " 'was',\n",
       " 'were',\n",
       " 'be',\n",
       " 'been',\n",
       " 'being',\n",
       " 'have',\n",
       " 'has',\n",
       " 'had',\n",
       " 'having',\n",
       " 'do',\n",
       " 'does',\n",
       " 'did',\n",
       " 'doing',\n",
       " 'a',\n",
       " 'an',\n",
       " 'the',\n",
       " 'and',\n",
       " 'but',\n",
       " 'if',\n",
       " 'or',\n",
       " 'because',\n",
       " 'as',\n",
       " 'until',\n",
       " 'while',\n",
       " 'of',\n",
       " 'at',\n",
       " 'by',\n",
       " 'for',\n",
       " 'with',\n",
       " 'about',\n",
       " 'against',\n",
       " 'between',\n",
       " 'into',\n",
       " 'through',\n",
       " 'during',\n",
       " 'before',\n",
       " 'after',\n",
       " 'above',\n",
       " 'below',\n",
       " 'to',\n",
       " 'from',\n",
       " 'up',\n",
       " 'down',\n",
       " 'in',\n",
       " 'out',\n",
       " 'on',\n",
       " 'off',\n",
       " 'over',\n",
       " 'under',\n",
       " 'again',\n",
       " 'further',\n",
       " 'then',\n",
       " 'once',\n",
       " 'here',\n",
       " 'there',\n",
       " 'when',\n",
       " 'where',\n",
       " 'why',\n",
       " 'how',\n",
       " 'all',\n",
       " 'any',\n",
       " 'both',\n",
       " 'each',\n",
       " 'few',\n",
       " 'more',\n",
       " 'most',\n",
       " 'other',\n",
       " 'some',\n",
       " 'such',\n",
       " 'no',\n",
       " 'nor',\n",
       " 'not',\n",
       " 'only',\n",
       " 'own',\n",
       " 'same',\n",
       " 'so',\n",
       " 'than',\n",
       " 'too',\n",
       " 'very',\n",
       " 's',\n",
       " 't',\n",
       " 'can',\n",
       " 'will',\n",
       " 'just',\n",
       " 'don',\n",
       " \"don't\",\n",
       " 'should',\n",
       " \"should've\",\n",
       " 'now',\n",
       " 'd',\n",
       " 'll',\n",
       " 'm',\n",
       " 'o',\n",
       " 're',\n",
       " 've',\n",
       " 'y',\n",
       " 'ain',\n",
       " 'aren',\n",
       " \"aren't\",\n",
       " 'couldn',\n",
       " \"couldn't\",\n",
       " 'didn',\n",
       " \"didn't\",\n",
       " 'doesn',\n",
       " \"doesn't\",\n",
       " 'hadn',\n",
       " \"hadn't\",\n",
       " 'hasn',\n",
       " \"hasn't\",\n",
       " 'haven',\n",
       " \"haven't\",\n",
       " 'isn',\n",
       " \"isn't\",\n",
       " 'ma',\n",
       " 'mightn',\n",
       " \"mightn't\",\n",
       " 'mustn',\n",
       " \"mustn't\",\n",
       " 'needn',\n",
       " \"needn't\",\n",
       " 'shan',\n",
       " \"shan't\",\n",
       " 'shouldn',\n",
       " \"shouldn't\",\n",
       " 'wasn',\n",
       " \"wasn't\",\n",
       " 'weren',\n",
       " \"weren't\",\n",
       " 'won',\n",
       " \"won't\",\n",
       " 'wouldn',\n",
       " \"wouldn't\"]"
      ]
     },
     "execution_count": 8,
     "metadata": {},
     "output_type": "execute_result"
    }
   ],
   "source": [
    "stopwords"
   ]
  },
  {
   "cell_type": "markdown",
   "id": "84584367",
   "metadata": {},
   "source": [
    "# KMeans Tuning & Modeling"
   ]
  },
  {
   "cell_type": "code",
   "execution_count": 29,
   "id": "c52cf4f4",
   "metadata": {},
   "outputs": [],
   "source": [
    "#hyperparameter tuning\n",
    "n_clusters = 4\n",
    "n_iters = 300\n",
    "n_seed = 10\n",
    "\n",
    "pca_num_components = 2\n",
    "tsne_num_components = 2"
   ]
  },
  {
   "cell_type": "code",
   "execution_count": 30,
   "id": "b50034bb",
   "metadata": {},
   "outputs": [],
   "source": [
    "\n",
    "model = KMeans(n_clusters=n_clusters,\n",
    "               init=\"k-means++\",\n",
    "               max_iter=n_iters,\n",
    "               n_init=1, \n",
    "               precompute_distances=\"auto\",\n",
    "               n_jobs=1)"
   ]
  },
  {
   "cell_type": "code",
   "execution_count": 31,
   "id": "5f60f67a",
   "metadata": {},
   "outputs": [
    {
     "data": {
      "text/plain": [
       "KMeans(n_clusters=4, n_init=1, n_jobs=1, precompute_distances='auto')"
      ]
     },
     "execution_count": 31,
     "metadata": {},
     "output_type": "execute_result"
    }
   ],
   "source": [
    "model.fit(df)"
   ]
  },
  {
   "cell_type": "code",
   "execution_count": 32,
   "id": "7d5ed165",
   "metadata": {},
   "outputs": [],
   "source": [
    "labels = model.fit_predict(X)"
   ]
  },
  {
   "cell_type": "code",
   "execution_count": 33,
   "id": "f325caa7",
   "metadata": {},
   "outputs": [
    {
     "data": {
      "text/plain": [
       "array([0, 1, 2, ..., 2, 3, 1], dtype=int32)"
      ]
     },
     "execution_count": 33,
     "metadata": {},
     "output_type": "execute_result"
    }
   ],
   "source": [
    "labels"
   ]
  },
  {
   "cell_type": "code",
   "execution_count": 34,
   "id": "1e27166d",
   "metadata": {},
   "outputs": [
    {
     "data": {
      "text/plain": [
       "3408"
      ]
     },
     "execution_count": 34,
     "metadata": {},
     "output_type": "execute_result"
    }
   ],
   "source": [
    "len(labels)"
   ]
  },
  {
   "cell_type": "code",
   "execution_count": 35,
   "id": "8491c1b1",
   "metadata": {},
   "outputs": [],
   "source": [
    "centroids = model.cluster_centers_.argsort()[:,::1]"
   ]
  },
  {
   "cell_type": "code",
   "execution_count": 36,
   "id": "42fbc7fd",
   "metadata": {},
   "outputs": [
    {
     "data": {
      "text/plain": [
       "array([[ 173,   81,  828, ..., 1205, 1204, 1202],\n",
       "       [1015,    8,  828, ..., 1121,  213, 1069],\n",
       "       [ 110,  180,  612, ..., 1204, 1202, 1205],\n",
       "       [ 110,  146, 1144, ...,   15,  188, 1001]])"
      ]
     },
     "execution_count": 36,
     "metadata": {},
     "output_type": "execute_result"
    }
   ],
   "source": [
    "centroids"
   ]
  },
  {
   "cell_type": "code",
   "execution_count": 37,
   "id": "0da91621",
   "metadata": {},
   "outputs": [
    {
     "name": "stdout",
     "output_type": "stream",
     "text": [
      "Cluster 0:\n",
      "challenges\n",
      "approve\n",
      "prescribed\n",
      "Cluster 1:\n",
      "selection\n",
      "according\n",
      "prescribed\n",
      "Cluster 2:\n",
      "attributed\n",
      "charging\n",
      "legally\n",
      "Cluster 3:\n",
      "attributed\n",
      "branches\n",
      "uncertainty\n"
     ]
    }
   ],
   "source": [
    "for i in range(n_clusters):\n",
    "    print(f\"Cluster {i}:\")\n",
    "    for ind in centroids[i,:3]:\n",
    "        print(f\"{words[ind]}\")"
   ]
  },
  {
   "cell_type": "code",
   "execution_count": 38,
   "id": "aaa6fd29",
   "metadata": {},
   "outputs": [],
   "source": [
    "reduced_data = PCA(n_components = pca_num_components).fit_transform(X)"
   ]
  },
  {
   "cell_type": "code",
   "execution_count": 39,
   "id": "d0e4d706",
   "metadata": {},
   "outputs": [
    {
     "data": {
      "image/png": "[encoded data removed]",
      "text/plain": [
       "<Figure size 432x288 with 1 Axes>"
      ]
     },
     "metadata": {
      "needs_background": "light"
     },
     "output_type": "display_data"
    }
   ],
   "source": [
    "fig,ax = plt.subplots()\n",
    "for i, instance in enumerate(reduced_data):\n",
    "    pca_comp1,pca_comp2 = reduced_data[i]\n",
    "    ax.scatter(pca_comp1,pca_comp2)\n",
    "plt.show()"
   ]
  },
  {
   "cell_type": "code",
   "execution_count": null,
   "id": "f46ff93a",
   "metadata": {},
   "outputs": [],
   "source": []
  }
 ],
 "metadata": {
  "kernelspec": {
   "display_name": "Python 3",
   "language": "python",
   "name": "python3"
  },
  "language_info": {
   "codemirror_mode": {
    "name": "ipython",
    "version": 3
   },
   "file_extension": ".py",
   "mimetype": "text/x-python",
   "name": "python",
   "nbconvert_exporter": "python",
   "pygments_lexer": "ipython3",
   "version": "3.8.8"
  }
 },
 "nbformat": 4,
 "nbformat_minor": 5
}
